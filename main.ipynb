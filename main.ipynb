{
 "cells": [
  {
   "cell_type": "code",
   "execution_count": 3,
   "metadata": {},
   "outputs": [],
   "source": [
    "import numpy as np\n",
    "import pandas as pd\n",
    "\n",
    "from layout.obj.Compos_DF import ComposDF\n",
    "from layout.obj.Block import *\n",
    "from layout.obj.Compo import *"
   ]
  },
  {
   "cell_type": "code",
   "execution_count": 4,
   "metadata": {},
   "outputs": [],
   "source": [
    "name = 'data/output/uied/9'\n",
    "compos_df = ComposDF(json_file=name + '-new.json', img_file=name + '.png')\n",
    "img = compos_df.img.copy()\n",
    "img_re = compos_df.img_resized.copy()"
   ]
  },
  {
   "cell_type": "code",
   "execution_count": 5,
   "metadata": {},
   "outputs": [],
   "source": [
    "# ***Step 1*** repetitive list recognition\n",
    "compos_df.repetitive_group_recognition()    # group, alignment_in_group, group_nontext, group_text\n",
    "# check_valid_group_by_interleaving(compos.compos_dataframe)\n",
    "compos_df.pair_groups()                     # group_pair, pair_to\n",
    "compos_df.list_item_partition()             # list_item\n",
    "compos_df.visualize_block('group')\n",
    "compos_df.visualize_block('group_pair')"
   ]
  },
  {
   "cell_type": "code",
   "execution_count": 5,
   "metadata": {},
   "outputs": [],
   "source": [
    "# ***Step 2*** start wrapping compos into Compo objects \n",
    "lists, non_listed_compos = cvt_list_and_compos_by_pair_and_group(compos_df.compos_dataframe[1:])\n",
    "all_compos = lists + non_listed_compos\n",
    "visualize_Compos(all_compos, img_re)"
   ]
  },
  {
   "cell_type": "code",
   "execution_count": 6,
   "metadata": {},
   "outputs": [],
   "source": [
    "# ***Step 3*** slice compos as blocks\n",
    "blocks, non_blocked_compos = slice_blocks(lists + non_listed_compos, 'v')\n",
    "visualize_blocks(blocks, img, compos_df.img_shape)\n",
    "blocks[2].visualize_sub_blocks_and_compos(img_re, recursive=True)"
   ]
  },
  {
   "cell_type": "code",
   "execution_count": null,
   "metadata": {},
   "outputs": [],
   "source": []
  },
  {
   "cell_type": "code",
   "execution_count": null,
   "metadata": {},
   "outputs": [],
   "source": []
  },
  {
   "cell_type": "code",
   "execution_count": null,
   "metadata": {},
   "outputs": [],
   "source": [
    "# *** UIED ***"
   ]
  },
  {
   "cell_type": "code",
   "execution_count": 1,
   "metadata": {},
   "outputs": [],
   "source": [
    "def resize_height_by_longest_edge(img_path, resize_length=800):\n",
    "    org = cv2.imread(img_path)\n",
    "    height, width = org.shape[:2]\n",
    "    if height > width:\n",
    "        return resize_length\n",
    "    else:\n",
    "        return int(resize_length * (height / width))"
   ]
  },
  {
   "cell_type": "code",
   "execution_count": 4,
   "metadata": {},
   "outputs": [],
   "source": [
    "key_params = {'min-grad':10, 'ffl-block':5, 'min-ele-area':50, 'merge-contained-ele':True,\n",
    "              'max-word-inline-gap':10, 'max-line-ingraph-gap':4, 'remove-top-bar':True}\n",
    "\n",
    "# set input image path\n",
    "input_path_img = 'data/input/30800.jpg'\n",
    "output_root = 'data/output'\n",
    "\n",
    "resized_height = resize_height_by_longest_edge(input_path_img, resize_length=800)"
   ]
  },
  {
   "cell_type": "code",
   "execution_count": 5,
   "metadata": {},
   "outputs": [
    {
     "ename": "NameError",
     "evalue": "name 'pjoin' is not defined",
     "output_type": "error",
     "traceback": [
      "\u001b[1;31m---------------------------------------------------------------------------\u001b[0m",
      "\u001b[1;31mNameError\u001b[0m                                 Traceback (most recent call last)",
      "\u001b[1;32m<ipython-input-5-817407740b17>\u001b[0m in \u001b[0;36m<module>\u001b[1;34m()\u001b[0m\n\u001b[0;32m      1\u001b[0m \u001b[1;32mimport\u001b[0m \u001b[0muied\u001b[0m\u001b[1;33m.\u001b[0m\u001b[0mdetect_text\u001b[0m\u001b[1;33m.\u001b[0m\u001b[0mtext_detection\u001b[0m \u001b[1;32mas\u001b[0m \u001b[0mtext\u001b[0m\u001b[1;33m\u001b[0m\u001b[0m\n\u001b[1;32m----> 2\u001b[1;33m \u001b[0mos\u001b[0m\u001b[1;33m.\u001b[0m\u001b[0mmakedirs\u001b[0m\u001b[1;33m(\u001b[0m\u001b[0mpjoin\u001b[0m\u001b[1;33m(\u001b[0m\u001b[0moutput_root\u001b[0m\u001b[1;33m,\u001b[0m \u001b[1;34m'ocr'\u001b[0m\u001b[1;33m)\u001b[0m\u001b[1;33m,\u001b[0m \u001b[0mexist_ok\u001b[0m\u001b[1;33m=\u001b[0m\u001b[1;32mTrue\u001b[0m\u001b[1;33m)\u001b[0m\u001b[1;33m\u001b[0m\u001b[0m\n\u001b[0m\u001b[0;32m      3\u001b[0m \u001b[0mtext\u001b[0m\u001b[1;33m.\u001b[0m\u001b[0mtext_detection\u001b[0m\u001b[1;33m(\u001b[0m\u001b[0minput_path_img\u001b[0m\u001b[1;33m,\u001b[0m \u001b[0moutput_root\u001b[0m\u001b[1;33m,\u001b[0m \u001b[0mshow\u001b[0m\u001b[1;33m=\u001b[0m\u001b[1;32mTrue\u001b[0m\u001b[1;33m)\u001b[0m\u001b[1;33m\u001b[0m\u001b[0m\n",
      "\u001b[1;31mNameError\u001b[0m: name 'pjoin' is not defined"
     ]
    }
   ],
   "source": [
    "import uied.detect_text.text_detection as text\n",
    "os.makedirs(pjoin(output_root, 'ocr'), exist_ok=True)\n",
    "text.text_detection(input_path_img, output_root, show=True)"
   ]
  },
  {
   "cell_type": "code",
   "execution_count": null,
   "metadata": {},
   "outputs": [],
   "source": []
  }
 ],
 "metadata": {
  "kernelspec": {
   "display_name": "Python 3",
   "language": "python",
   "name": "python3"
  },
  "language_info": {
   "codemirror_mode": {
    "name": "ipython",
    "version": 3
   },
   "file_extension": ".py",
   "mimetype": "text/x-python",
   "name": "python",
   "nbconvert_exporter": "python",
   "pygments_lexer": "ipython3",
   "version": "3.5.6"
  }
 },
 "nbformat": 4,
 "nbformat_minor": 2
}
