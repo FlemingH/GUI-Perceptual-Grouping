{
 "cells": [
  {
   "cell_type": "code",
   "execution_count": 1,
   "metadata": {},
   "outputs": [],
   "source": [
    "import json\n",
    "from os.path import join as pjoin\n",
    "import cv2"
   ]
  },
  {
   "cell_type": "code",
   "execution_count": 2,
   "metadata": {},
   "outputs": [],
   "source": [
    "js = json.load(open('valid_group_data.json'))"
   ]
  },
  {
   "cell_type": "code",
   "execution_count": 3,
   "metadata": {},
   "outputs": [],
   "source": [
    "data_root = 'E:\\\\Mulong\\\\Datasets\\\\gui\\\\rico\\\\combined\\\\all'"
   ]
  },
  {
   "cell_type": "code",
   "execution_count": 4,
   "metadata": {},
   "outputs": [],
   "source": [
    "def visualize_bound(img, data, show=True):\n",
    "    board = img.copy()\n",
    "    for b in data['bounds']:\n",
    "        cv2.rectangle(board, (b[0], b[1]), (b[2], b[3]), (0,0,255), 2)\n",
    "    if show:\n",
    "        cv2.imshow('data', cv2.resize(board, (500, 800)))\n",
    "        cv2.waitKey()"
   ]
  },
  {
   "cell_type": "code",
   "execution_count": 5,
   "metadata": {},
   "outputs": [],
   "source": [
    "def draw_label(img, bound, color, text=None, put_text=True):\n",
    "    cv2.rectangle(img, (bound[0], bound[1]), (bound[2], bound[3]), color, 3)\n",
    "    if put_text:\n",
    "        # put text with rectangle \n",
    "        (w,h),_ = cv2.getTextSize(text, cv2.FONT_HERSHEY_SIMPLEX, 1.6, 3)\n",
    "        cv2.rectangle(img, (bound[0], bound[1] - 40), (bound[0] + w, bound[1] - 40 + h), color, -1)\n",
    "        cv2.putText(img, text, (bound[0], bound[1] - 10), cv2.FONT_HERSHEY_SIMPLEX, 1.5, (255,255,255), 3)"
   ]
  },
  {
   "cell_type": "code",
   "execution_count": 6,
   "metadata": {},
   "outputs": [],
   "source": [
    "def visualize_list(img, data, show=True):\n",
    "    board = img.copy()\n",
    "    is_drawn = False\n",
    "    \n",
    "    if data['vertical_groups'] is not None:\n",
    "        for g in data['vertical_groups']:\n",
    "            draw_label(board, data['bounds'][g[0]], (0,0,166), 'vertical_groups')\n",
    "            for compo_id in g[1:]:\n",
    "                b = data['bounds'][compo_id]\n",
    "                draw_label(board, b, (0,0,166), put_text=False)\n",
    "                is_drawn = True\n",
    "\n",
    "    if data['horizontal_groups'] is not None:\n",
    "        for g in data['horizontal_groups']:\n",
    "            draw_label(board, data['bounds'][g[0]], (166,0,0), 'horizontal_groups')\n",
    "            for compo_id in g[1:]:\n",
    "                b = data['bounds'][compo_id]\n",
    "                draw_label(board, b, (166,0,0), put_text=False)\n",
    "                is_drawn = True\n",
    "                \n",
    "    if data['multitab_groups'] is not None:\n",
    "        for g in data['multitab_groups']:\n",
    "            draw_label(board, data['bounds'][g[0]], (166,0,166), 'multitab_groups')\n",
    "            for compo_id in g[1:]:\n",
    "                b = data['bounds'][compo_id]\n",
    "                draw_label(board, b, (166,0,166), put_text=False)\n",
    "                is_drawn = True\n",
    "    \n",
    "    if data['list_groups'] is not None:\n",
    "        for g in data['list_groups']:\n",
    "            draw_label(board, data['bounds'][g[0]], (166,100,255), 'list_groups')\n",
    "            for compo_id in g[1:]:\n",
    "                b = data['bounds'][compo_id]\n",
    "                draw_label(board, b, (166,100,255), put_text=False)\n",
    "                is_drawn = True        \n",
    "                \n",
    "    if data['pageindcator_groups'] is not None:\n",
    "        for g in data['pageindcator_groups']:\n",
    "            draw_label(board, data['bounds'][g[0]], (166,166,166), 'pageindcator_groups')\n",
    "            for compo_id in g[1:]:\n",
    "                b = data['bounds'][compo_id]\n",
    "                draw_label(board, b, (166,166,166), put_text=False)\n",
    "                is_drawn = True     \n",
    "        \n",
    "    if show and is_drawn:\n",
    "        cv2.imshow('data', cv2.resize(board, (500, 800)))\n",
    "        key = cv2.waitKey(0)\n",
    "        return key\n",
    "    return None"
   ]
  },
  {
   "cell_type": "code",
   "execution_count": 7,
   "metadata": {},
   "outputs": [
    {
     "name": "stdout",
     "output_type": "stream",
     "text": [
      "8464\n",
      "9834\n",
      "29508\n",
      "61760\n",
      "27557\n",
      "42707\n",
      "34897\n",
      "47886\n",
      "56585\n",
      "42497\n",
      "42863\n",
      "64803\n",
      "66437\n",
      "52091\n",
      "1456\n",
      "44668\n",
      "3470\n",
      "71436\n",
      "20586\n",
      "39407\n",
      "22802\n",
      "38941\n",
      "33820\n",
      "42490\n",
      "28324\n",
      "44358\n",
      "21332\n",
      "27637\n",
      "9911\n",
      "60200\n",
      "34507\n",
      "36587\n",
      "22476\n",
      "10858\n",
      "21\n",
      "29574\n",
      "10096\n",
      "45231\n",
      "49981\n",
      "49137\n",
      "46163\n",
      "58057\n",
      "48273\n",
      "6734\n",
      "14148\n",
      "46424\n",
      "47482\n",
      "13989\n",
      "40900\n",
      "29759\n",
      "54966\n",
      "58051\n",
      "2359\n",
      "24053\n",
      "12988\n",
      "60557\n",
      "48614\n",
      "11954\n",
      "35862\n",
      "68065\n",
      "18188\n",
      "16368\n",
      "51460\n",
      "36581\n",
      "32645\n",
      "11394\n",
      "57678\n",
      "29338\n",
      "6989\n",
      "15492\n",
      "66952\n",
      "58735\n",
      "63723\n",
      "56166\n",
      "36209\n",
      "8006\n",
      "38675\n",
      "33670\n",
      "29914\n",
      "3363\n",
      "63755\n",
      "5646\n",
      "5657\n",
      "25423\n",
      "9456\n",
      "2207\n",
      "38445\n",
      "42635\n",
      "66474\n",
      "69265\n",
      "70824\n",
      "23324\n",
      "52156\n",
      "15202\n",
      "44774\n",
      "9352\n",
      "27903\n",
      "32003\n",
      "43272\n",
      "19879\n"
     ]
    }
   ],
   "source": [
    "for img_name in list(js.keys())[:100]:\n",
    "    print(img_name)\n",
    "    img_file = pjoin(data_root, img_name + '.jpg')\n",
    "    img_data = js[img_name]\n",
    "    img = cv2.imread(img_file)\n",
    "    \n",
    "    org_json_file = pjoin(data_root, img_name + '.json')\n",
    "    org_data = json.load(open(org_json_file))\n",
    "    org_shape = org_data['activity']['root']['bounds']\n",
    "    \n",
    "    img = cv2.resize(img, (org_shape[2], org_shape[3]))\n",
    "    # visualize(img, img_data)\n",
    "    key = visualize_list(img, img_data)\n",
    "    \n",
    "    if key is not None and key != -1:\n",
    "        if chr(key) == 'q':\n",
    "            break\n",
    "cv2.destroyWindow('data')"
   ]
  },
  {
   "cell_type": "code",
   "execution_count": null,
   "metadata": {},
   "outputs": [],
   "source": []
  },
  {
   "cell_type": "code",
   "execution_count": 9,
   "metadata": {},
   "outputs": [
    {
     "ename": "KeyError",
     "evalue": "'244'",
     "output_type": "error",
     "traceback": [
      "\u001b[1;31m---------------------------------------------------------------------------\u001b[0m",
      "\u001b[1;31mKeyError\u001b[0m                                  Traceback (most recent call last)",
      "\u001b[1;32m<ipython-input-9-e04cb7b31c3a>\u001b[0m in \u001b[0;36m<module>\u001b[1;34m()\u001b[0m\n\u001b[0;32m      1\u001b[0m \u001b[0mimg_name\u001b[0m \u001b[1;33m=\u001b[0m \u001b[1;34m'244'\u001b[0m\u001b[1;33m\u001b[0m\u001b[0m\n\u001b[0;32m      2\u001b[0m \u001b[0mimg_file\u001b[0m \u001b[1;33m=\u001b[0m \u001b[0mpjoin\u001b[0m\u001b[1;33m(\u001b[0m\u001b[0mdata_root\u001b[0m\u001b[1;33m,\u001b[0m \u001b[0mimg_name\u001b[0m \u001b[1;33m+\u001b[0m \u001b[1;34m'.jpg'\u001b[0m\u001b[1;33m)\u001b[0m\u001b[1;33m\u001b[0m\u001b[0m\n\u001b[1;32m----> 3\u001b[1;33m \u001b[0mimg_data\u001b[0m \u001b[1;33m=\u001b[0m \u001b[0mjs\u001b[0m\u001b[1;33m[\u001b[0m\u001b[0mimg_name\u001b[0m\u001b[1;33m]\u001b[0m\u001b[1;33m\u001b[0m\u001b[0m\n\u001b[0m\u001b[0;32m      4\u001b[0m \u001b[0mimg\u001b[0m \u001b[1;33m=\u001b[0m \u001b[0mcv2\u001b[0m\u001b[1;33m.\u001b[0m\u001b[0mimread\u001b[0m\u001b[1;33m(\u001b[0m\u001b[0mimg_file\u001b[0m\u001b[1;33m)\u001b[0m\u001b[1;33m\u001b[0m\u001b[0m\n\u001b[0;32m      5\u001b[0m \u001b[1;33m\u001b[0m\u001b[0m\n",
      "\u001b[1;31mKeyError\u001b[0m: '244'"
     ]
    }
   ],
   "source": [
    "img_name = '244'\n",
    "img_file = pjoin(data_root, img_name + '.jpg')\n",
    "img_data = js[img_name]\n",
    "img = cv2.imread(img_file)\n",
    "\n",
    "org_json_file = pjoin(data_root, img_name + '.json')\n",
    "org_data = json.load(open(org_json_file))\n",
    "org_shape = org_data['activity']['root']['bounds']\n",
    "\n",
    "img = cv2.resize(img, (org_shape[2], org_shape[3]))\n",
    "# visualize(img, img_data)\n",
    "key = visualize_list(img, img_data)\n",
    "cv2.destroyWindow('data')"
   ]
  },
  {
   "cell_type": "code",
   "execution_count": null,
   "metadata": {},
   "outputs": [],
   "source": []
  },
  {
   "cell_type": "code",
   "execution_count": 32,
   "metadata": {},
   "outputs": [
    {
     "name": "stdout",
     "output_type": "stream",
     "text": [
      "dict_keys(['horizontal_groups', 'ui', 'multitab_groups', 'pageindcator_groups', 'bounds', 'vertical_groups', 'list_groups', 'labels', 'clickables'])\n",
      "dict_keys(['horizontal_groups', 'ui', 'multitab_groups', 'pageindcator_groups', 'bounds', 'vertical_groups', 'list_groups', 'labels', 'clickables'])\n",
      "dict_keys(['horizontal_groups', 'ui', 'multitab_groups', 'pageindcator_groups', 'bounds', 'vertical_groups', 'list_groups', 'labels', 'clickables'])\n",
      "dict_keys(['horizontal_groups', 'ui', 'multitab_groups', 'pageindcator_groups', 'bounds', 'vertical_groups', 'list_groups', 'labels', 'clickables'])\n",
      "dict_keys(['horizontal_groups', 'ui', 'multitab_groups', 'pageindcator_groups', 'bounds', 'vertical_groups', 'list_groups', 'labels', 'clickables'])\n"
     ]
    }
   ],
   "source": [
    "for img_name in img_names:\n",
    "    img_data = js[img_name]\n",
    "    print(img_data.keys())"
   ]
  },
  {
   "cell_type": "code",
   "execution_count": null,
   "metadata": {},
   "outputs": [],
   "source": []
  }
 ],
 "metadata": {
  "kernelspec": {
   "display_name": "Python 3",
   "language": "python",
   "name": "python3"
  },
  "language_info": {
   "codemirror_mode": {
    "name": "ipython",
    "version": 3
   },
   "file_extension": ".py",
   "mimetype": "text/x-python",
   "name": "python",
   "nbconvert_exporter": "python",
   "pygments_lexer": "ipython3",
   "version": "3.5.6"
  }
 },
 "nbformat": 4,
 "nbformat_minor": 2
}
