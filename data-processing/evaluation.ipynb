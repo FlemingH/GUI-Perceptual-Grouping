{
 "cells": [
  {
   "cell_type": "code",
   "execution_count": 1,
   "metadata": {},
   "outputs": [],
   "source": [
    "import json\n",
    "import os\n",
    "from os.path import join as pjoin\n",
    "import cv2"
   ]
  },
  {
   "cell_type": "code",
   "execution_count": 2,
   "metadata": {},
   "outputs": [],
   "source": [
    "def draw_label(img, bound, color, text=None, put_text=True):\n",
    "    cv2.rectangle(img, (bound[0], bound[1]), (bound[2], bound[3]), color, 3)\n",
    "    if put_text:\n",
    "        # put text with rectangle \n",
    "        (w,h),_ = cv2.getTextSize(text, cv2.FONT_HERSHEY_SIMPLEX, 1.6, 3)\n",
    "        cv2.rectangle(img, (bound[0], bound[1] - 40), (bound[0] + w, bound[1] - 40 + h), color, -1)\n",
    "        cv2.putText(img, text, (bound[0], bound[1] - 10), cv2.FONT_HERSHEY_SIMPLEX, 1.5, (255,255,255), 3) \n",
    "\n",
    "\n",
    "def visualize_list(img, data, show=True):\n",
    "    board = img.copy()\n",
    "    is_drawn = False\n",
    "    \n",
    "    if data['vertical_groups'] is not None:\n",
    "        for g in data['vertical_groups']:\n",
    "            draw_label(board, data['bounds'][g[0]], (0,0,166), 'vertical_groups')\n",
    "            for compo_id in g[1:]:\n",
    "                b = data['bounds'][compo_id]\n",
    "                draw_label(board, b, (0,0,166), put_text=False)\n",
    "                is_drawn = True\n",
    "\n",
    "    if data['horizontal_groups'] is not None:\n",
    "        for g in data['horizontal_groups']:\n",
    "            draw_label(board, data['bounds'][g[0]], (166,0,0), 'horizontal_groups')\n",
    "            for compo_id in g[1:]:\n",
    "                b = data['bounds'][compo_id]\n",
    "                draw_label(board, b, (166,0,0), put_text=False)\n",
    "                is_drawn = True\n",
    "                \n",
    "    if data['multitab_groups'] is not None:\n",
    "        for g in data['multitab_groups']:\n",
    "            draw_label(board, data['bounds'][g[0]], (166,0,166), 'multitab_groups')\n",
    "            for compo_id in g[1:]:\n",
    "                b = data['bounds'][compo_id]\n",
    "                draw_label(board, b, (166,0,166), put_text=False)\n",
    "                is_drawn = True\n",
    "    \n",
    "    if data['list_groups'] is not None:\n",
    "        for g in data['list_groups']:\n",
    "            draw_label(board, data['bounds'][g[0]], (166,100,255), 'list_groups')\n",
    "            for compo_id in g[1:]:\n",
    "                b = data['bounds'][compo_id]\n",
    "                draw_label(board, b, (166,100,255), put_text=False)\n",
    "                is_drawn = True        \n",
    "                \n",
    "    if data['pageindcator_groups'] is not None:\n",
    "        for g in data['pageindcator_groups']:\n",
    "            draw_label(board, data['bounds'][g[0]], (166,166,166), 'pageindcator_groups')\n",
    "            for compo_id in g[1:]:\n",
    "                b = data['bounds'][compo_id]\n",
    "                draw_label(board, b, (166,166,166), put_text=False)\n",
    "                is_drawn = True     \n",
    "        \n",
    "    if show and is_drawn:\n",
    "        cv2.imshow('data', cv2.resize(board, (500, 800)))\n",
    "        key = cv2.waitKey(0)\n",
    "        return key\n",
    "    return None\n",
    "\n",
    "\n",
    "def visualize_results(image_name):\n",
    "    uied_result = cv2.imread(pjoin(result_root, 'uied', image_name + '.jpg'))\n",
    "    layout_result = cv2.imread(pjoin(result_root, 'layout', image_name + '-list.jpg'))\n",
    "    cv2.imshow('uied', uied_result)\n",
    "    cv2.imshow('layout', layout_result)\n",
    "    \n",
    "\n",
    "def visualize_ground_truth(image_name, gt_data):\n",
    "    img_file = pjoin(data_root, image_name + '.jpg')\n",
    "    img_data = gt_data[image_name]\n",
    "    img = cv2.imread(img_file)\n",
    "    \n",
    "    org_json_file = pjoin(data_root, image_name + '.json')\n",
    "    org_data = json.load(open(org_json_file))\n",
    "    org_shape = org_data['activity']['root']['bounds']\n",
    "    \n",
    "    img = cv2.resize(img, (1440, 2560))\n",
    "    return visualize_list(img, img_data)"
   ]
  },
  {
   "cell_type": "code",
   "execution_count": 3,
   "metadata": {},
   "outputs": [],
   "source": [
    "def cvt_list_gt(gt_data):\n",
    "    lst = sorted(gt_data['list'].items(), key=lambda x: x[0])\n",
    "    lst = [l[1] for l in lst]\n",
    "    return lst"
   ]
  },
  {
   "cell_type": "code",
   "execution_count": 5,
   "metadata": {},
   "outputs": [],
   "source": [
    "def evaluate(gt, result):\n",
    "    print('*** Ground Truth ***')\n",
    "    print('Number of list items:', len(gt))\n",
    "    for item in gt:\n",
    "        print(item)\n",
    "    print('*** Result ***')\n",
    "    print('Number of lists:', len(result))\n",
    "    for lst in result:\n",
    "        print('Number of list items:', len(lst))\n",
    "        for item in lst:\n",
    "            print(item)"
   ]
  },
  {
   "cell_type": "code",
   "execution_count": 6,
   "metadata": {},
   "outputs": [],
   "source": [
    "data_root = 'E:\\\\Mulong\\\\Datasets\\\\gui\\\\rico\\\\combined\\\\all'\n",
    "result_root = 'E:\\\\Temp\\\\data\\\\rico-layout\\\\result'\n",
    "list_gt = json.load(open('item_data_class.json'))\n",
    "gui_gt = json.load(open('valid_group_data.json'))"
   ]
  },
  {
   "cell_type": "code",
   "execution_count": null,
   "metadata": {},
   "outputs": [],
   "source": []
  },
  {
   "cell_type": "code",
   "execution_count": 8,
   "metadata": {},
   "outputs": [
    {
     "name": "stdout",
     "output_type": "stream",
     "text": [
      "\n",
      " 2114\n",
      "*** Ground Truth ***\n",
      "Number of list items: 10\n",
      "['TextView', 'TextView']\n",
      "['TextView', 'TextView']\n",
      "['TextView', 'TextView', 'TextView']\n",
      "['TextView', 'TextView']\n",
      "['TextView']\n",
      "['TextView', 'TextView']\n",
      "['TextView']\n",
      "['TextView', 'TextView']\n",
      "['TextView', 'TextView']\n",
      "['TextView', 'TextView']\n",
      "*** Result ***\n",
      "Number of lists: 1\n",
      "Number of list items: 10\n",
      "['Compo', 'Text']\n",
      "['Compo', 'Text']\n",
      "['Compo', 'Text']\n",
      "['Compo', 'Text']\n",
      "['Compo', 'Text']\n",
      "['Compo', 'Text']\n",
      "['Compo', 'Text']\n",
      "['Compo', 'Text']\n",
      "['Text']\n",
      "['Text']\n"
     ]
    }
   ],
   "source": [
    "start_point = None\n",
    "start = False\n",
    "for img_name in open('select.txt', 'r').readlines()[:200]:\n",
    "    img_name = img_name.replace('\\n', '')\n",
    "    if start_point is None or img_name == start_point: start = True\n",
    "    if not start: continue\n",
    "    print('\\n', img_name)\n",
    "    \n",
    "    item_gt = cvt_list_gt(list_gt[img_name])\n",
    "    item_result = json.load(open(pjoin('E:\\\\Temp\\\\data\\\\rico-layout\\\\result', 'layout', img_name + '-list.json')))['list']\n",
    "    evaluate(item_gt, item_result)\n",
    "    \n",
    "    visualize_results(img_name)\n",
    "    key = visualize_ground_truth(img_name, gui_gt)\n",
    "    if key is not None and key != -1 and chr(key) == 'q':\n",
    "        break\n",
    "cv2.destroyAllWindows()"
   ]
  },
  {
   "cell_type": "code",
   "execution_count": null,
   "metadata": {},
   "outputs": [],
   "source": []
  },
  {
   "cell_type": "code",
   "execution_count": 29,
   "metadata": {},
   "outputs": [
    {
     "name": "stdout",
     "output_type": "stream",
     "text": [
      "*** Ground Truth ***\n",
      "Number of list items: 9\n",
      "['ImageView', 'TextView', 'ImageView', 'ImageView']\n",
      "['ImageView', 'TextView', 'ImageView', 'ImageView']\n",
      "['ImageView', 'TextView', 'ImageView', 'ImageView']\n",
      "['ImageView', 'TextView', 'ImageView', 'ImageView']\n",
      "['ImageView', 'TextView', 'ImageView', 'ImageView']\n",
      "['ImageView', 'TextView', 'ImageView', 'ImageView']\n",
      "['ImageView', 'TextView', 'ImageView', 'ImageView']\n",
      "['ImageView', 'TextView', 'ImageView', 'ImageView']\n",
      "['ImageView', 'TextView', 'ImageView', 'ImageView']\n",
      "*** Result ***\n",
      "Number of lists: 1\n",
      "Number of list items: 9\n",
      "['Compo', 'Compo', 'Compo', 'Text']\n",
      "['Compo', 'Compo', 'Compo', 'Text']\n",
      "['Compo', 'Compo', 'Compo', 'Text']\n",
      "['Compo', 'Compo', 'Compo', 'Text']\n",
      "['Compo', 'Compo', 'Compo', 'Text']\n",
      "['Compo', 'Compo', 'Compo', 'Text']\n",
      "['Compo', 'Compo', 'Compo', 'Text']\n",
      "['Compo', 'Compo', 'Compo', 'Text']\n",
      "['Compo', 'Compo', 'Text']\n"
     ]
    }
   ],
   "source": [
    "img_name = '26644'\n",
    "\n",
    "item_gt = cvt_list_gt(list_gt[img_name])\n",
    "item_result = json.load(open(pjoin('E:\\\\Temp\\\\data\\\\rico-layout\\\\result', 'layout', img_name + '-list.json')))['list']\n",
    "evaluate(item_gt, item_result)\n",
    "\n",
    "visualize_results(img_name)\n",
    "visualize_ground_truth(img_name, gui_gt)\n",
    "cv2.destroyAllWindows()"
   ]
  },
  {
   "cell_type": "code",
   "execution_count": null,
   "metadata": {},
   "outputs": [],
   "source": []
  }
 ],
 "metadata": {
  "kernelspec": {
   "display_name": "Python 3",
   "language": "python",
   "name": "python3"
  },
  "language_info": {
   "codemirror_mode": {
    "name": "ipython",
    "version": 3
   },
   "file_extension": ".py",
   "mimetype": "text/x-python",
   "name": "python",
   "nbconvert_exporter": "python",
   "pygments_lexer": "ipython3",
   "version": "3.5.6"
  }
 },
 "nbformat": 4,
 "nbformat_minor": 2
}
