{
 "cells": [
  {
   "cell_type": "code",
   "execution_count": 2,
   "metadata": {},
   "outputs": [],
   "source": [
    "import json\n",
    "from glob import glob\n",
    "from os.path import join as pjoin\n",
    "from tqdm import tqdm\n",
    "import cv2"
   ]
  },
  {
   "cell_type": "code",
   "execution_count": 3,
   "metadata": {},
   "outputs": [],
   "source": [
    "def draw_label(img, bound, color, text=None):\n",
    "    cv2.rectangle(img, (bound[0], bound[1]), (bound[2], bound[3]), color, 3)\n",
    "    if text is not None:\n",
    "        # put text with rectangle \n",
    "        (w,h),_ = cv2.getTextSize(text, cv2.FONT_HERSHEY_SIMPLEX, 1.6, 3)\n",
    "        cv2.rectangle(img, (bound[0], bound[1] - 40), (bound[0] + w, bound[1] - 40 + h), color, -1)\n",
    "        cv2.putText(img, text, (bound[0], bound[1] - 10), cv2.FONT_HERSHEY_SIMPLEX, 1.5, (255,255,255), 3)\n",
    "        \n",
    "\n",
    "def visualize(image_name, compos, win_name='compos'):\n",
    "    '''\n",
    "    @compos: converted format: {'bboxes':[], 'labels':[]}\n",
    "    '''\n",
    "    img_file = pjoin(data_root, image_name + '.jpg')\n",
    "    img = cv2.imread(img_file)\n",
    "    img = cv2.resize(img, (1440, 2560))\n",
    "\n",
    "    color = {'Text': (0,0,255), 'Non-Text': (0,255,0)}\n",
    "    for i in range(len(compos['bboxes'])):\n",
    "        bound = compos['bboxes'][i]\n",
    "        label = compos['labels'][i]\n",
    "        # if label in ('List Item', 'Toolbar', 'Modal', 'Multi-Tab', 'Drawer', 'Advertisement', 'Web View'):\n",
    "        #     continue\n",
    "        label = 'Text' if label == 'Text' else 'Non-Text'\n",
    "        draw_label(img, bound, color[label], text=str(compos['labels'][i]))\n",
    "\n",
    "    cv2.imshow(win_name, cv2.resize(img, (500, 800)))\n",
    "    return cv2.waitKey()"
   ]
  },
  {
   "cell_type": "code",
   "execution_count": 4,
   "metadata": {},
   "outputs": [],
   "source": [
    "def resize_result_bounds(bboxes, result_height, gt_height=2560):\n",
    "    bboxes_new = []\n",
    "    scale = gt_height / result_height\n",
    "    for bbox in bboxes:\n",
    "        bbox = [int(b * scale) for b in bbox]\n",
    "        bboxes_new.append(bbox)\n",
    "    return bboxes_new\n",
    "\n",
    "\n",
    "def cvt_data_result(data):\n",
    "    '''\n",
    "    @ data: {'img_shape', 'compos':{'id', 'class', 'position':{'column_min','row_min','column_max','row_max'}}}\n",
    "    @ return compos: {'bbox':[[left,top,right,bottom]], 'labels':[Text(1)/Non-Text(2)]}\n",
    "    '''\n",
    "    compos = {'bboxes': [], 'labels': []}\n",
    "    for compo in data['compos']:\n",
    "        position = compo['position']\n",
    "        bound = [position['column_min'], position['row_min'], position['column_max'], position['row_max']]\n",
    "        label = compo['class']\n",
    "#         label = 1 if compo['class'] == 'Text' else 2\n",
    "        compos['bboxes'].append(bound)\n",
    "        compos['labels'].append(label)        \n",
    "    return compos\n",
    "\n",
    "\n",
    "def cvt_data_gt(data):\n",
    "    compos = {'bboxes': [], 'labels': []}\n",
    "    for i in range(len(data['labels'])):\n",
    "        bound = data['bounds'][i]\n",
    "        label = data['labels'][i]\n",
    "        if label in ('List Item', 'Toolbar', 'Modal', 'Multi-Tab', 'Drawer', 'Advertisement', 'Web View'):\n",
    "            continue\n",
    "#         label = 1 if label == 'Text' else 2\n",
    "        compos['bboxes'].append(bound)\n",
    "        compos['labels'].append(label)\n",
    "    return compos"
   ]
  },
  {
   "cell_type": "code",
   "execution_count": 5,
   "metadata": {},
   "outputs": [],
   "source": [
    "result_root = 'E:\\\\Mulong\\\\Result\\\\rico-layout\\\\result\\\\uied'\n",
    "data_root = 'E:\\\\Mulong\\\\Datasets\\\\gui\\\\rico\\\\combined\\\\all'"
   ]
  },
  {
   "cell_type": "code",
   "execution_count": 6,
   "metadata": {},
   "outputs": [],
   "source": [
    "gt_data = json.load(open('valid_group_data.json'))"
   ]
  },
  {
   "cell_type": "code",
   "execution_count": null,
   "metadata": {},
   "outputs": [],
   "source": []
  },
  {
   "cell_type": "code",
   "execution_count": 7,
   "metadata": {},
   "outputs": [
    {
     "name": "stdout",
     "output_type": "stream",
     "text": [
      "2060\n",
      "37198\n",
      "12456\n",
      "26903\n",
      "10282\n",
      "27406\n",
      "31517\n",
      "30609\n",
      "24668\n",
      "10283\n"
     ]
    }
   ],
   "source": [
    "start_point = '2060'\n",
    "start = False\n",
    "for img_name in open('select.txt', 'r').readlines():\n",
    "    img_name = img_name.replace('\\n', '')\n",
    "    if start_point is None or img_name == start_point: start = True\n",
    "    if not start: continue\n",
    "    print(img_name)\n",
    "    \n",
    "    detect_data = json.load(open(pjoin(result_root, img_name + '.json')))\n",
    "    compos_detected = cvt_data_result(detect_data)\n",
    "    compos_detected['bboxes'] = resize_result_bounds(compos_detected['bboxes'], detect_data['img_shape'][0]) \n",
    "    compos_gt = cvt_data_gt(gt_data[img_name])\n",
    "    \n",
    "    visualize(img_name, compos_gt, win_name='gt')\n",
    "    key = visualize(img_name, compos_detected, win_name='detected')\n",
    "    if key is not None and key != -1:\n",
    "        if chr(key) == 'q':\n",
    "            break\n",
    "cv2.destroyAllWindows()"
   ]
  },
  {
   "cell_type": "code",
   "execution_count": null,
   "metadata": {},
   "outputs": [],
   "source": []
  }
 ],
 "metadata": {
  "kernelspec": {
   "display_name": "Python 3",
   "language": "python",
   "name": "python3"
  },
  "language_info": {
   "codemirror_mode": {
    "name": "ipython",
    "version": 3
   },
   "file_extension": ".py",
   "mimetype": "text/x-python",
   "name": "python",
   "nbconvert_exporter": "python",
   "pygments_lexer": "ipython3",
   "version": "3.5.6"
  }
 },
 "nbformat": 4,
 "nbformat_minor": 2
}
