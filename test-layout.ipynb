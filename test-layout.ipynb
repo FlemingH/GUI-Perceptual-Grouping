{
 "cells": [
  {
   "cell_type": "code",
   "execution_count": 1,
   "metadata": {},
   "outputs": [],
   "source": [
    "from GUI import GUI\n",
    "from layout.obj.Compo import Compo\n",
    "import layout.lib.pairing as pairing\n",
    "import layout.lib.repetition_recognition as rep\n",
    "import layout.lib.draw as draw\n",
    "from sklearn.cluster import DBSCAN\n",
    "\n",
    "import pandas as pd\n",
    "import math\n",
    "import numpy as np"
   ]
  },
  {
   "cell_type": "code",
   "execution_count": null,
   "metadata": {},
   "outputs": [],
   "source": [
    "gui = GUI(img_file='data/input/4.jpg')"
   ]
  },
  {
   "cell_type": "code",
   "execution_count": 2,
   "metadata": {},
   "outputs": [],
   "source": [
    "gui = GUI(img_file='E:\\\\Mulong\\\\Datasets\\\\gui\\\\rico\\\\combined\\\\all\\\\22833.jpg', output_dir='E:\\\\Temp\\\\data\\\\rico-layout\\\\result')"
   ]
  },
  {
   "cell_type": "code",
   "execution_count": 12,
   "metadata": {},
   "outputs": [
    {
     "name": "stdout",
     "output_type": "stream",
     "text": [
      "[Text Detection Completed in 1.575 s] Input: E:\\Mulong\\Datasets\\gui\\rico\\combined\\all\\22833.jpg Output: E:\\Temp\\data\\rico-layout\\result\\ocr\\22833.json\n",
      "[Compo Detection Completed in 0.684 s] Input: E:\\Mulong\\Datasets\\gui\\rico\\combined\\all\\22833.jpg Output: E:\\Temp\\data\\rico-layout\\result\\ip\\22833.json\n",
      "[Merge Completed] Input: E:\\Mulong\\Datasets\\gui\\rico\\combined\\all\\22833.jpg Output: E:\\Temp\\data\\rico-layout\\result\\uied\\22833.jpg\n"
     ]
    }
   ],
   "source": [
    "gui.element_detection()\n",
    "gui.visualize_element_detection()"
   ]
  },
  {
   "cell_type": "code",
   "execution_count": 3,
   "metadata": {
    "scrolled": true
   },
   "outputs": [
    {
     "name": "stdout",
     "output_type": "stream",
     "text": [
      "[Layout Recognition Completed in 3.984 s] Input: E:\\Mulong\\Datasets\\gui\\rico\\combined\\all\\22833.jpg Output: E:\\Temp\\data\\rico-layout\\result\\layout\\22833.json\n",
      "Thu Aug  5 10:05:59 2021 \n",
      "\n",
      "\n"
     ]
    }
   ],
   "source": [
    "gui.layout_recognition()\n",
    "gui.visualize_layout_recognition()"
   ]
  },
  {
   "cell_type": "code",
   "execution_count": 4,
   "metadata": {},
   "outputs": [],
   "source": [
    "gui.compos_df.select_by_class(['Text'], no_parent=True, replace=True)"
   ]
  },
  {
   "cell_type": "code",
   "execution_count": 6,
   "metadata": {},
   "outputs": [],
   "source": [
    "df = gui.compos_df.compos_dataframe"
   ]
  },
  {
   "cell_type": "code",
   "execution_count": 9,
   "metadata": {},
   "outputs": [],
   "source": [
    "df['group_nontext'] = -1"
   ]
  },
  {
   "cell_type": "code",
   "execution_count": 15,
   "metadata": {},
   "outputs": [
    {
     "data": {
      "text/plain": [
       "Series([], Name: id, dtype: object)"
      ]
     },
     "execution_count": 15,
     "metadata": {},
     "output_type": "execute_result"
    }
   ],
   "source": [
    "df['id']"
   ]
  },
  {
   "cell_type": "code",
   "execution_count": null,
   "metadata": {},
   "outputs": [],
   "source": []
  },
  {
   "cell_type": "code",
   "execution_count": null,
   "metadata": {},
   "outputs": [],
   "source": []
  },
  {
   "cell_type": "code",
   "execution_count": null,
   "metadata": {},
   "outputs": [],
   "source": []
  },
  {
   "cell_type": "code",
   "execution_count": 6,
   "metadata": {},
   "outputs": [],
   "source": [
    "gui.cvt_compos_json_to_dataframe()"
   ]
  },
  {
   "cell_type": "code",
   "execution_count": 7,
   "metadata": {},
   "outputs": [],
   "source": [
    "gui.compos_df.repetitive_group_recognition()"
   ]
  },
  {
   "cell_type": "code",
   "execution_count": 5,
   "metadata": {},
   "outputs": [],
   "source": [
    "gui.compos_df.pair_groups()"
   ]
  },
  {
   "cell_type": "code",
   "execution_count": 7,
   "metadata": {},
   "outputs": [],
   "source": [
    "gui.compos_df.repetitive_block_recognition()"
   ]
  },
  {
   "cell_type": "code",
   "execution_count": 5,
   "metadata": {},
   "outputs": [],
   "source": [
    "b = gui.visualize_compos_df('group')"
   ]
  },
  {
   "cell_type": "code",
   "execution_count": 8,
   "metadata": {},
   "outputs": [],
   "source": [
    "# gui.compos_df.pair_groups()"
   ]
  },
  {
   "cell_type": "code",
   "execution_count": 12,
   "metadata": {},
   "outputs": [],
   "source": [
    "# gui.visualize_compos_df('group_pair')"
   ]
  },
  {
   "cell_type": "code",
   "execution_count": null,
   "metadata": {},
   "outputs": [],
   "source": []
  },
  {
   "cell_type": "code",
   "execution_count": null,
   "metadata": {},
   "outputs": [],
   "source": []
  },
  {
   "cell_type": "code",
   "execution_count": null,
   "metadata": {},
   "outputs": [],
   "source": []
  },
  {
   "cell_type": "code",
   "execution_count": 2,
   "metadata": {},
   "outputs": [],
   "source": [
    "gui = GUI(img_file='E:\\\\Mulong\\\\Datasets\\\\gui\\\\rico\\\\combined\\\\all\\\\22833.jpg',\n",
    "          compos_json_file='E:\\\\Temp\\\\data\\\\rico-layout\\\\result\\\\uied\\\\22833.json',\n",
    "          output_dir='E:\\\\Temp\\\\data\\\\rico-layout\\\\result')"
   ]
  },
  {
   "cell_type": "code",
   "execution_count": 12,
   "metadata": {},
   "outputs": [],
   "source": [
    "gui.cvt_compos_json_to_dataframe()"
   ]
  },
  {
   "cell_type": "code",
   "execution_count": 13,
   "metadata": {},
   "outputs": [
    {
     "data": {
      "text/html": [
       "<div>\n",
       "<style scoped>\n",
       "    .dataframe tbody tr th:only-of-type {\n",
       "        vertical-align: middle;\n",
       "    }\n",
       "\n",
       "    .dataframe tbody tr th {\n",
       "        vertical-align: top;\n",
       "    }\n",
       "\n",
       "    .dataframe thead th {\n",
       "        text-align: right;\n",
       "    }\n",
       "</style>\n",
       "<table border=\"1\" class=\"dataframe\">\n",
       "  <thead>\n",
       "    <tr style=\"text-align: right;\">\n",
       "      <th></th>\n",
       "      <th>id</th>\n",
       "      <th>class</th>\n",
       "      <th>column_min</th>\n",
       "      <th>column_max</th>\n",
       "      <th>row_min</th>\n",
       "      <th>row_max</th>\n",
       "      <th>height</th>\n",
       "      <th>width</th>\n",
       "      <th>area</th>\n",
       "      <th>center</th>\n",
       "      <th>center_column</th>\n",
       "      <th>center_row</th>\n",
       "      <th>text_content</th>\n",
       "      <th>children</th>\n",
       "      <th>parent</th>\n",
       "    </tr>\n",
       "  </thead>\n",
       "  <tbody>\n",
       "    <tr>\n",
       "      <th>0</th>\n",
       "      <td>0</td>\n",
       "      <td>Compo</td>\n",
       "      <td>24</td>\n",
       "      <td>64</td>\n",
       "      <td>35</td>\n",
       "      <td>72</td>\n",
       "      <td>37</td>\n",
       "      <td>40</td>\n",
       "      <td>1480</td>\n",
       "      <td>(44.0, 53.5)</td>\n",
       "      <td>44.0</td>\n",
       "      <td>53.5</td>\n",
       "      <td>None</td>\n",
       "      <td>(13,)</td>\n",
       "      <td>None</td>\n",
       "    </tr>\n",
       "    <tr>\n",
       "      <th>1</th>\n",
       "      <td>1</td>\n",
       "      <td>Compo</td>\n",
       "      <td>119</td>\n",
       "      <td>150</td>\n",
       "      <td>34</td>\n",
       "      <td>73</td>\n",
       "      <td>39</td>\n",
       "      <td>31</td>\n",
       "      <td>1209</td>\n",
       "      <td>(134.5, 53.5)</td>\n",
       "      <td>134.5</td>\n",
       "      <td>53.5</td>\n",
       "      <td>None</td>\n",
       "      <td>None</td>\n",
       "      <td>None</td>\n",
       "    </tr>\n",
       "    <tr>\n",
       "      <th>2</th>\n",
       "      <td>2</td>\n",
       "      <td>Compo</td>\n",
       "      <td>208</td>\n",
       "      <td>239</td>\n",
       "      <td>35</td>\n",
       "      <td>72</td>\n",
       "      <td>37</td>\n",
       "      <td>31</td>\n",
       "      <td>1147</td>\n",
       "      <td>(223.5, 53.5)</td>\n",
       "      <td>223.5</td>\n",
       "      <td>53.5</td>\n",
       "      <td>None</td>\n",
       "      <td>None</td>\n",
       "      <td>None</td>\n",
       "    </tr>\n",
       "    <tr>\n",
       "      <th>3</th>\n",
       "      <td>3</td>\n",
       "      <td>Compo</td>\n",
       "      <td>297</td>\n",
       "      <td>328</td>\n",
       "      <td>40</td>\n",
       "      <td>73</td>\n",
       "      <td>33</td>\n",
       "      <td>31</td>\n",
       "      <td>1023</td>\n",
       "      <td>(312.5, 56.5)</td>\n",
       "      <td>312.5</td>\n",
       "      <td>56.5</td>\n",
       "      <td>None</td>\n",
       "      <td>None</td>\n",
       "      <td>None</td>\n",
       "    </tr>\n",
       "    <tr>\n",
       "      <th>4</th>\n",
       "      <td>4</td>\n",
       "      <td>Compo</td>\n",
       "      <td>393</td>\n",
       "      <td>406</td>\n",
       "      <td>41</td>\n",
       "      <td>66</td>\n",
       "      <td>25</td>\n",
       "      <td>13</td>\n",
       "      <td>325</td>\n",
       "      <td>(399.5, 53.5)</td>\n",
       "      <td>399.5</td>\n",
       "      <td>53.5</td>\n",
       "      <td>None</td>\n",
       "      <td>None</td>\n",
       "      <td>None</td>\n",
       "    </tr>\n",
       "    <tr>\n",
       "      <th>5</th>\n",
       "      <td>5</td>\n",
       "      <td>Compo</td>\n",
       "      <td>7</td>\n",
       "      <td>442</td>\n",
       "      <td>86</td>\n",
       "      <td>162</td>\n",
       "      <td>76</td>\n",
       "      <td>435</td>\n",
       "      <td>33060</td>\n",
       "      <td>(224.5, 124.0)</td>\n",
       "      <td>224.5</td>\n",
       "      <td>124.0</td>\n",
       "      <td>None</td>\n",
       "      <td>(14, 15, 16, 17)</td>\n",
       "      <td>None</td>\n",
       "    </tr>\n",
       "    <tr>\n",
       "      <th>6</th>\n",
       "      <td>6</td>\n",
       "      <td>Compo</td>\n",
       "      <td>35</td>\n",
       "      <td>73</td>\n",
       "      <td>701</td>\n",
       "      <td>740</td>\n",
       "      <td>39</td>\n",
       "      <td>38</td>\n",
       "      <td>1482</td>\n",
       "      <td>(54.0, 720.5)</td>\n",
       "      <td>54.0</td>\n",
       "      <td>720.5</td>\n",
       "      <td>None</td>\n",
       "      <td>(18,)</td>\n",
       "      <td>None</td>\n",
       "    </tr>\n",
       "    <tr>\n",
       "      <th>7</th>\n",
       "      <td>7</td>\n",
       "      <td>Compo</td>\n",
       "      <td>148</td>\n",
       "      <td>186</td>\n",
       "      <td>701</td>\n",
       "      <td>740</td>\n",
       "      <td>39</td>\n",
       "      <td>38</td>\n",
       "      <td>1482</td>\n",
       "      <td>(167.0, 720.5)</td>\n",
       "      <td>167.0</td>\n",
       "      <td>720.5</td>\n",
       "      <td>None</td>\n",
       "      <td>None</td>\n",
       "      <td>None</td>\n",
       "    </tr>\n",
       "    <tr>\n",
       "      <th>8</th>\n",
       "      <td>8</td>\n",
       "      <td>Compo</td>\n",
       "      <td>260</td>\n",
       "      <td>299</td>\n",
       "      <td>705</td>\n",
       "      <td>733</td>\n",
       "      <td>28</td>\n",
       "      <td>39</td>\n",
       "      <td>1092</td>\n",
       "      <td>(279.5, 719.0)</td>\n",
       "      <td>279.5</td>\n",
       "      <td>719.0</td>\n",
       "      <td>None</td>\n",
       "      <td>None</td>\n",
       "      <td>None</td>\n",
       "    </tr>\n",
       "    <tr>\n",
       "      <th>9</th>\n",
       "      <td>9</td>\n",
       "      <td>Compo</td>\n",
       "      <td>373</td>\n",
       "      <td>411</td>\n",
       "      <td>702</td>\n",
       "      <td>740</td>\n",
       "      <td>38</td>\n",
       "      <td>38</td>\n",
       "      <td>1444</td>\n",
       "      <td>(392.0, 721.0)</td>\n",
       "      <td>392.0</td>\n",
       "      <td>721.0</td>\n",
       "      <td>None</td>\n",
       "      <td>None</td>\n",
       "      <td>None</td>\n",
       "    </tr>\n",
       "    <tr>\n",
       "      <th>10</th>\n",
       "      <td>10</td>\n",
       "      <td>Compo</td>\n",
       "      <td>88</td>\n",
       "      <td>108</td>\n",
       "      <td>762</td>\n",
       "      <td>787</td>\n",
       "      <td>25</td>\n",
       "      <td>20</td>\n",
       "      <td>500</td>\n",
       "      <td>(98.0, 774.5)</td>\n",
       "      <td>98.0</td>\n",
       "      <td>774.5</td>\n",
       "      <td>None</td>\n",
       "      <td>None</td>\n",
       "      <td>None</td>\n",
       "    </tr>\n",
       "    <tr>\n",
       "      <th>11</th>\n",
       "      <td>11</td>\n",
       "      <td>Compo</td>\n",
       "      <td>212</td>\n",
       "      <td>235</td>\n",
       "      <td>763</td>\n",
       "      <td>787</td>\n",
       "      <td>24</td>\n",
       "      <td>23</td>\n",
       "      <td>552</td>\n",
       "      <td>(223.5, 775.0)</td>\n",
       "      <td>223.5</td>\n",
       "      <td>775.0</td>\n",
       "      <td>None</td>\n",
       "      <td>None</td>\n",
       "      <td>None</td>\n",
       "    </tr>\n",
       "    <tr>\n",
       "      <th>12</th>\n",
       "      <td>12</td>\n",
       "      <td>Compo</td>\n",
       "      <td>340</td>\n",
       "      <td>360</td>\n",
       "      <td>761</td>\n",
       "      <td>787</td>\n",
       "      <td>26</td>\n",
       "      <td>20</td>\n",
       "      <td>520</td>\n",
       "      <td>(350.0, 774.0)</td>\n",
       "      <td>350.0</td>\n",
       "      <td>774.0</td>\n",
       "      <td>None</td>\n",
       "      <td>None</td>\n",
       "      <td>None</td>\n",
       "    </tr>\n",
       "    <tr>\n",
       "      <th>13</th>\n",
       "      <td>13</td>\n",
       "      <td>Text</td>\n",
       "      <td>30</td>\n",
       "      <td>58</td>\n",
       "      <td>34</td>\n",
       "      <td>48</td>\n",
       "      <td>14</td>\n",
       "      <td>28</td>\n",
       "      <td>392</td>\n",
       "      <td>(44.0, 41.0)</td>\n",
       "      <td>44.0</td>\n",
       "      <td>41.0</td>\n",
       "      <td>UU</td>\n",
       "      <td>None</td>\n",
       "      <td>0</td>\n",
       "    </tr>\n",
       "    <tr>\n",
       "      <th>14</th>\n",
       "      <td>14</td>\n",
       "      <td>Text</td>\n",
       "      <td>349</td>\n",
       "      <td>429</td>\n",
       "      <td>91</td>\n",
       "      <td>108</td>\n",
       "      <td>17</td>\n",
       "      <td>80</td>\n",
       "      <td>1360</td>\n",
       "      <td>(389.0, 99.5)</td>\n",
       "      <td>389.0</td>\n",
       "      <td>99.5</td>\n",
       "      <td>Dec 29 , 2016</td>\n",
       "      <td>None</td>\n",
       "      <td>5</td>\n",
       "    </tr>\n",
       "    <tr>\n",
       "      <th>15</th>\n",
       "      <td>15</td>\n",
       "      <td>Text</td>\n",
       "      <td>19</td>\n",
       "      <td>51</td>\n",
       "      <td>90</td>\n",
       "      <td>134</td>\n",
       "      <td>44</td>\n",
       "      <td>32</td>\n",
       "      <td>1408</td>\n",
       "      <td>(35.0, 112.0)</td>\n",
       "      <td>35.0</td>\n",
       "      <td>112.0</td>\n",
       "      <td>29 Thu</td>\n",
       "      <td>None</td>\n",
       "      <td>5</td>\n",
       "    </tr>\n",
       "    <tr>\n",
       "      <th>16</th>\n",
       "      <td>16</td>\n",
       "      <td>Text</td>\n",
       "      <td>65</td>\n",
       "      <td>153</td>\n",
       "      <td>84</td>\n",
       "      <td>132</td>\n",
       "      <td>48</td>\n",
       "      <td>88</td>\n",
       "      <td>4224</td>\n",
       "      <td>(109.0, 108.0)</td>\n",
       "      <td>109.0</td>\n",
       "      <td>108.0</td>\n",
       "      <td>12:49:40 hello cruel</td>\n",
       "      <td>None</td>\n",
       "      <td>5</td>\n",
       "    </tr>\n",
       "    <tr>\n",
       "      <th>17</th>\n",
       "      <td>17</td>\n",
       "      <td>Text</td>\n",
       "      <td>160</td>\n",
       "      <td>206</td>\n",
       "      <td>107</td>\n",
       "      <td>130</td>\n",
       "      <td>23</td>\n",
       "      <td>46</td>\n",
       "      <td>1058</td>\n",
       "      <td>(183.0, 118.5)</td>\n",
       "      <td>183.0</td>\n",
       "      <td>118.5</td>\n",
       "      <td>world</td>\n",
       "      <td>None</td>\n",
       "      <td>5</td>\n",
       "    </tr>\n",
       "    <tr>\n",
       "      <th>18</th>\n",
       "      <td>18</td>\n",
       "      <td>Text</td>\n",
       "      <td>38</td>\n",
       "      <td>48</td>\n",
       "      <td>701</td>\n",
       "      <td>734</td>\n",
       "      <td>33</td>\n",
       "      <td>10</td>\n",
       "      <td>330</td>\n",
       "      <td>(43.0, 717.5)</td>\n",
       "      <td>43.0</td>\n",
       "      <td>717.5</td>\n",
       "      <td>III</td>\n",
       "      <td>None</td>\n",
       "      <td>6</td>\n",
       "    </tr>\n",
       "  </tbody>\n",
       "</table>\n",
       "</div>"
      ],
      "text/plain": [
       "    id  class column_min column_max row_min row_max height width   area  \\\n",
       "0    0  Compo         24         64      35      72     37    40   1480   \n",
       "1    1  Compo        119        150      34      73     39    31   1209   \n",
       "2    2  Compo        208        239      35      72     37    31   1147   \n",
       "3    3  Compo        297        328      40      73     33    31   1023   \n",
       "4    4  Compo        393        406      41      66     25    13    325   \n",
       "5    5  Compo          7        442      86     162     76   435  33060   \n",
       "6    6  Compo         35         73     701     740     39    38   1482   \n",
       "7    7  Compo        148        186     701     740     39    38   1482   \n",
       "8    8  Compo        260        299     705     733     28    39   1092   \n",
       "9    9  Compo        373        411     702     740     38    38   1444   \n",
       "10  10  Compo         88        108     762     787     25    20    500   \n",
       "11  11  Compo        212        235     763     787     24    23    552   \n",
       "12  12  Compo        340        360     761     787     26    20    520   \n",
       "13  13   Text         30         58      34      48     14    28    392   \n",
       "14  14   Text        349        429      91     108     17    80   1360   \n",
       "15  15   Text         19         51      90     134     44    32   1408   \n",
       "16  16   Text         65        153      84     132     48    88   4224   \n",
       "17  17   Text        160        206     107     130     23    46   1058   \n",
       "18  18   Text         38         48     701     734     33    10    330   \n",
       "\n",
       "            center  center_column  center_row          text_content  \\\n",
       "0     (44.0, 53.5)           44.0        53.5                  None   \n",
       "1    (134.5, 53.5)          134.5        53.5                  None   \n",
       "2    (223.5, 53.5)          223.5        53.5                  None   \n",
       "3    (312.5, 56.5)          312.5        56.5                  None   \n",
       "4    (399.5, 53.5)          399.5        53.5                  None   \n",
       "5   (224.5, 124.0)          224.5       124.0                  None   \n",
       "6    (54.0, 720.5)           54.0       720.5                  None   \n",
       "7   (167.0, 720.5)          167.0       720.5                  None   \n",
       "8   (279.5, 719.0)          279.5       719.0                  None   \n",
       "9   (392.0, 721.0)          392.0       721.0                  None   \n",
       "10   (98.0, 774.5)           98.0       774.5                  None   \n",
       "11  (223.5, 775.0)          223.5       775.0                  None   \n",
       "12  (350.0, 774.0)          350.0       774.0                  None   \n",
       "13    (44.0, 41.0)           44.0        41.0                    UU   \n",
       "14   (389.0, 99.5)          389.0        99.5         Dec 29 , 2016   \n",
       "15   (35.0, 112.0)           35.0       112.0                29 Thu   \n",
       "16  (109.0, 108.0)          109.0       108.0  12:49:40 hello cruel   \n",
       "17  (183.0, 118.5)          183.0       118.5                 world   \n",
       "18   (43.0, 717.5)           43.0       717.5                   III   \n",
       "\n",
       "            children parent  \n",
       "0              (13,)   None  \n",
       "1               None   None  \n",
       "2               None   None  \n",
       "3               None   None  \n",
       "4               None   None  \n",
       "5   (14, 15, 16, 17)   None  \n",
       "6              (18,)   None  \n",
       "7               None   None  \n",
       "8               None   None  \n",
       "9               None   None  \n",
       "10              None   None  \n",
       "11              None   None  \n",
       "12              None   None  \n",
       "13              None      0  \n",
       "14              None      5  \n",
       "15              None      5  \n",
       "16              None      5  \n",
       "17              None      5  \n",
       "18              None      6  "
      ]
     },
     "execution_count": 13,
     "metadata": {},
     "output_type": "execute_result"
    }
   ],
   "source": [
    "gui.compos_df.compos_dataframe"
   ]
  },
  {
   "cell_type": "code",
   "execution_count": null,
   "metadata": {},
   "outputs": [],
   "source": []
  },
  {
   "cell_type": "code",
   "execution_count": null,
   "metadata": {},
   "outputs": [],
   "source": []
  },
  {
   "cell_type": "code",
   "execution_count": null,
   "metadata": {},
   "outputs": [],
   "source": []
  },
  {
   "cell_type": "code",
   "execution_count": null,
   "metadata": {},
   "outputs": [],
   "source": []
  },
  {
   "cell_type": "code",
   "execution_count": null,
   "metadata": {},
   "outputs": [],
   "source": []
  },
  {
   "cell_type": "code",
   "execution_count": 4,
   "metadata": {},
   "outputs": [],
   "source": [
    "gui.compos_df.pair_groups()"
   ]
  },
  {
   "cell_type": "code",
   "execution_count": 6,
   "metadata": {},
   "outputs": [],
   "source": [
    "compos = gui.compos_df\n",
    "df = compos.compos_dataframe\n",
    "all_groups = compos.split_groups('group')"
   ]
  },
  {
   "cell_type": "code",
   "execution_count": 8,
   "metadata": {},
   "outputs": [],
   "source": [
    "g_nt0 = df[df['group'] == 'nt-0']\n",
    "g_t10 = df[df['group'] == 't-10']"
   ]
  },
  {
   "cell_type": "code",
   "execution_count": 9,
   "metadata": {},
   "outputs": [
    {
     "name": "stdout",
     "output_type": "stream",
     "text": [
      "nt-0 t-10\n",
      "[289.3579098625092, 333.28966380612525, 309.45758998609165, 308.4234102658227, 339.7484363466593, 339.418620585259, 315.4314505562183, None, None]\n"
     ]
    },
    {
     "ename": "TypeError",
     "evalue": "unorderable types: NoneType() > float()",
     "output_type": "error",
     "traceback": [
      "\u001b[1;31m---------------------------------------------------------------------------\u001b[0m",
      "\u001b[1;31mTypeError\u001b[0m                                 Traceback (most recent call last)",
      "\u001b[1;32m<ipython-input-9-be5ae06ccfc8>\u001b[0m in \u001b[0;36m<module>\u001b[1;34m()\u001b[0m\n\u001b[1;32m----> 1\u001b[1;33m \u001b[0mpairing\u001b[0m\u001b[1;33m.\u001b[0m\u001b[0mmatch_two_groups_by_distance\u001b[0m\u001b[1;33m(\u001b[0m\u001b[0mg_nt0\u001b[0m\u001b[1;33m,\u001b[0m \u001b[0mg_t10\u001b[0m\u001b[1;33m)\u001b[0m\u001b[1;33m\u001b[0m\u001b[0m\n\u001b[0m",
      "\u001b[1;32mD:\\git_file\\github\\doing\\GUI-Layout-Reocognition\\layout\\lib\\pairing.py\u001b[0m in \u001b[0;36mmatch_two_groups_by_distance\u001b[1;34m(g1, g2, diff_distance, diff_angle)\u001b[0m\n\u001b[0;32m    149\u001b[0m                 \u001b[0mangle_j\u001b[0m \u001b[1;33m=\u001b[0m \u001b[0mangles\u001b[0m\u001b[1;33m[\u001b[0m\u001b[0mj\u001b[0m\u001b[1;33m]\u001b[0m\u001b[1;33m\u001b[0m\u001b[0m\n\u001b[0;32m    150\u001b[0m                 \u001b[1;31m# compare the pair's distance and angle between the line and the x-axis\u001b[0m\u001b[1;33m\u001b[0m\u001b[1;33m\u001b[0m\u001b[0m\n\u001b[1;32m--> 151\u001b[1;33m                 \u001b[1;32mif\u001b[0m \u001b[0mmax\u001b[0m\u001b[1;33m(\u001b[0m\u001b[0mdis_i\u001b[0m\u001b[1;33m,\u001b[0m \u001b[0mdis_j\u001b[0m\u001b[1;33m)\u001b[0m \u001b[1;33m<\u001b[0m \u001b[0mmax_side\u001b[0m \u001b[1;33m*\u001b[0m \u001b[1;36m2\u001b[0m \u001b[1;32mand\u001b[0m\u001b[0;31m\\\u001b[0m\u001b[1;33m\u001b[0m\u001b[0m\n\u001b[0m\u001b[0;32m    152\u001b[0m                         \u001b[1;33m(\u001b[0m\u001b[0mabs\u001b[0m\u001b[1;33m(\u001b[0m\u001b[0mdis_i\u001b[0m \u001b[1;33m-\u001b[0m \u001b[0mdis_j\u001b[0m\u001b[1;33m)\u001b[0m \u001b[1;33m<=\u001b[0m \u001b[1;36m10\u001b[0m \u001b[1;32mor\u001b[0m \u001b[0mmax\u001b[0m\u001b[1;33m(\u001b[0m\u001b[0mdis_i\u001b[0m\u001b[1;33m,\u001b[0m \u001b[0mdis_j\u001b[0m\u001b[1;33m)\u001b[0m \u001b[1;33m<\u001b[0m \u001b[0mdiff_distance\u001b[0m \u001b[1;33m*\u001b[0m \u001b[0mmin\u001b[0m\u001b[1;33m(\u001b[0m\u001b[0mdis_i\u001b[0m\u001b[1;33m,\u001b[0m \u001b[0mdis_j\u001b[0m\u001b[1;33m)\u001b[0m\u001b[1;33m)\u001b[0m \u001b[1;32mand\u001b[0m\u001b[0;31m\\\u001b[0m\u001b[1;33m\u001b[0m\u001b[0m\n\u001b[0;32m    153\u001b[0m                         \u001b[0mabs\u001b[0m\u001b[1;33m(\u001b[0m\u001b[0mangle_i\u001b[0m \u001b[1;33m-\u001b[0m \u001b[0mangle_j\u001b[0m\u001b[1;33m)\u001b[0m \u001b[1;33m<\u001b[0m \u001b[0mdiff_angle\u001b[0m\u001b[1;33m:\u001b[0m\u001b[1;33m\u001b[0m\u001b[0m\n",
      "\u001b[1;31mTypeError\u001b[0m: unorderable types: NoneType() > float()"
     ]
    }
   ],
   "source": [
    "pairing.match_two_groups_by_distance(g_nt0, g_t10)"
   ]
  },
  {
   "cell_type": "code",
   "execution_count": 10,
   "metadata": {},
   "outputs": [
    {
     "data": {
      "text/plain": [
       "9"
      ]
     },
     "execution_count": 10,
     "metadata": {},
     "output_type": "execute_result"
    }
   ],
   "source": [
    "len(g_nt0)"
   ]
  },
  {
   "cell_type": "code",
   "execution_count": 11,
   "metadata": {},
   "outputs": [
    {
     "data": {
      "text/plain": [
       "10"
      ]
     },
     "execution_count": 11,
     "metadata": {},
     "output_type": "execute_result"
    }
   ],
   "source": [
    "len(g_t10)"
   ]
  },
  {
   "cell_type": "code",
   "execution_count": null,
   "metadata": {},
   "outputs": [],
   "source": []
  },
  {
   "cell_type": "code",
   "execution_count": null,
   "metadata": {},
   "outputs": [],
   "source": []
  },
  {
   "cell_type": "code",
   "execution_count": null,
   "metadata": {},
   "outputs": [],
   "source": []
  },
  {
   "cell_type": "code",
   "execution_count": 8,
   "metadata": {
    "scrolled": false
   },
   "outputs": [],
   "source": [
    "# gui.layout_recognition(check_valid_group=False)\n",
    "# gui.visualize_layout_recognition()"
   ]
  }
 ],
 "metadata": {
  "kernelspec": {
   "display_name": "Python 3",
   "language": "python",
   "name": "python3"
  },
  "language_info": {
   "codemirror_mode": {
    "name": "ipython",
    "version": 3
   },
   "file_extension": ".py",
   "mimetype": "text/x-python",
   "name": "python",
   "nbconvert_exporter": "python",
   "pygments_lexer": "ipython3",
   "version": "3.5.6"
  }
 },
 "nbformat": 4,
 "nbformat_minor": 2
}
