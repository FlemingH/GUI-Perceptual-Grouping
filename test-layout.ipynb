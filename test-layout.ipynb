{
 "cells": [
  {
   "cell_type": "code",
   "execution_count": 1,
   "metadata": {},
   "outputs": [],
   "source": [
    "from GUI import GUI\n",
    "import layout.lib.repetition_recognition as rep"
   ]
  },
  {
   "cell_type": "code",
   "execution_count": 56,
   "metadata": {},
   "outputs": [],
   "source": [
    "gui = GUI(img_file='data/input/v2.jpg')"
   ]
  },
  {
   "cell_type": "code",
   "execution_count": 57,
   "metadata": {
    "scrolled": true
   },
   "outputs": [
    {
     "name": "stdout",
     "output_type": "stream",
     "text": [
      "[Text Detection Completed in 0.974 s] Input: data/input/v2.jpg Output: data/output\\ocr\\v2.json\n",
      "[Compo Detection Completed in 0.594 s] Input: data/input/v2.jpg Output: data/output\\ip\\v2.json\n",
      "[Merge Completed] Input: data/input/v2.jpg Output: data/output\\uied\\v2.jpg\n"
     ]
    }
   ],
   "source": [
    "gui.detect_element()\n",
    "# gui.load_detection_result()\n",
    "gui.visualize_element_detection()"
   ]
  },
  {
   "cell_type": "code",
   "execution_count": 58,
   "metadata": {
    "scrolled": false
   },
   "outputs": [
    {
     "name": "stdout",
     "output_type": "stream",
     "text": [
      "[Layout Recognition Completed in 1.425 s] Input: data/input/v2.jpg Output: data/output\\layout\\v2.json\n"
     ]
    }
   ],
   "source": [
    "gui.recognize_layout()\n",
    "gui.visualize_layout_recognition()"
   ]
  },
  {
   "cell_type": "code",
   "execution_count": 85,
   "metadata": {},
   "outputs": [],
   "source": [
    "gui.visualize_element_detection()"
   ]
  },
  {
   "cell_type": "code",
   "execution_count": 70,
   "metadata": {},
   "outputs": [],
   "source": [
    "gui.visualize_layout_recognition()"
   ]
  },
  {
   "cell_type": "code",
   "execution_count": null,
   "metadata": {},
   "outputs": [],
   "source": []
  },
  {
   "cell_type": "code",
   "execution_count": null,
   "metadata": {},
   "outputs": [],
   "source": []
  },
  {
   "cell_type": "code",
   "execution_count": 5,
   "metadata": {},
   "outputs": [],
   "source": [
    "gui.cvt_compos_json_to_dataframe()"
   ]
  },
  {
   "cell_type": "code",
   "execution_count": 6,
   "metadata": {},
   "outputs": [],
   "source": [
    "gui.compos_df.recognize_element_groups_by_clustering()"
   ]
  },
  {
   "cell_type": "code",
   "execution_count": 10,
   "metadata": {},
   "outputs": [],
   "source": [
    "b= gui.compos_df.visualize_fill(gather_attr='group')"
   ]
  },
  {
   "cell_type": "code",
   "execution_count": 8,
   "metadata": {},
   "outputs": [],
   "source": [
    "gui.compos_df.calc_gap_in_group()"
   ]
  },
  {
   "cell_type": "code",
   "execution_count": null,
   "metadata": {},
   "outputs": [],
   "source": []
  },
  {
   "cell_type": "code",
   "execution_count": 11,
   "metadata": {},
   "outputs": [],
   "source": [
    "import layout.lib.repetition_recognition as rep\n",
    "gui.compos_df.compos_dataframe = rep.recog_repetition_text(gui.compos_df, show=True, only_non_contained_compo=True)"
   ]
  },
  {
   "cell_type": "code",
   "execution_count": 12,
   "metadata": {},
   "outputs": [],
   "source": [
    "b = gui.compos_df.visualize_fill(gather_attr='group_text')"
   ]
  },
  {
   "cell_type": "code",
   "execution_count": 11,
   "metadata": {},
   "outputs": [],
   "source": [
    "df = gui.compos_df.compos_dataframe"
   ]
  },
  {
   "cell_type": "code",
   "execution_count": 12,
   "metadata": {},
   "outputs": [
    {
     "data": {
      "text/html": [
       "<div>\n",
       "<style scoped>\n",
       "    .dataframe tbody tr th:only-of-type {\n",
       "        vertical-align: middle;\n",
       "    }\n",
       "\n",
       "    .dataframe tbody tr th {\n",
       "        vertical-align: top;\n",
       "    }\n",
       "\n",
       "    .dataframe thead th {\n",
       "        text-align: right;\n",
       "    }\n",
       "</style>\n",
       "<table border=\"1\" class=\"dataframe\">\n",
       "  <thead>\n",
       "    <tr style=\"text-align: right;\">\n",
       "      <th></th>\n",
       "      <th>id</th>\n",
       "      <th>class</th>\n",
       "      <th>column_min</th>\n",
       "      <th>column_max</th>\n",
       "      <th>row_min</th>\n",
       "      <th>row_max</th>\n",
       "      <th>height</th>\n",
       "      <th>width</th>\n",
       "      <th>area</th>\n",
       "      <th>center</th>\n",
       "      <th>center_column</th>\n",
       "      <th>center_row</th>\n",
       "      <th>text_content</th>\n",
       "      <th>children</th>\n",
       "      <th>parent</th>\n",
       "      <th>alignment_in_group</th>\n",
       "      <th>gap</th>\n",
       "      <th>group</th>\n",
       "    </tr>\n",
       "  </thead>\n",
       "  <tbody>\n",
       "    <tr>\n",
       "      <th>18</th>\n",
       "      <td>18</td>\n",
       "      <td>Text</td>\n",
       "      <td>189</td>\n",
       "      <td>454</td>\n",
       "      <td>216</td>\n",
       "      <td>260</td>\n",
       "      <td>44</td>\n",
       "      <td>265</td>\n",
       "      <td>11660</td>\n",
       "      <td>(321.5, 238.0)</td>\n",
       "      <td>321.5</td>\n",
       "      <td>238.0</td>\n",
       "      <td>BonTon : Pink Rose Dresses\\n$ 17 Shipped</td>\n",
       "      <td>-1</td>\n",
       "      <td>-1</td>\n",
       "      <td>v</td>\n",
       "      <td>197</td>\n",
       "      <td>t-2</td>\n",
       "    </tr>\n",
       "    <tr>\n",
       "      <th>19</th>\n",
       "      <td>19</td>\n",
       "      <td>Text</td>\n",
       "      <td>188</td>\n",
       "      <td>444</td>\n",
       "      <td>457</td>\n",
       "      <td>475</td>\n",
       "      <td>18</td>\n",
       "      <td>256</td>\n",
       "      <td>4608</td>\n",
       "      <td>(316.0, 466.0)</td>\n",
       "      <td>316.0</td>\n",
       "      <td>466.0</td>\n",
       "      <td>WHBM : Extra 40 % Off Sale</td>\n",
       "      <td>-1</td>\n",
       "      <td>-1</td>\n",
       "      <td>v</td>\n",
       "      <td>225</td>\n",
       "      <td>t-2</td>\n",
       "    </tr>\n",
       "    <tr>\n",
       "      <th>20</th>\n",
       "      <td>20</td>\n",
       "      <td>Text</td>\n",
       "      <td>189</td>\n",
       "      <td>460</td>\n",
       "      <td>700</td>\n",
       "      <td>747</td>\n",
       "      <td>47</td>\n",
       "      <td>271</td>\n",
       "      <td>12737</td>\n",
       "      <td>(324.5, 723.5)</td>\n",
       "      <td>324.5</td>\n",
       "      <td>723.5</td>\n",
       "      <td>12 Ribbed Cotton Tank Tops\\n$ 25 Shipped</td>\n",
       "      <td>-1</td>\n",
       "      <td>-1</td>\n",
       "      <td>v</td>\n",
       "      <td>-1</td>\n",
       "      <td>t-2</td>\n",
       "    </tr>\n",
       "  </tbody>\n",
       "</table>\n",
       "</div>"
      ],
      "text/plain": [
       "    id class  column_min  column_max  row_min  row_max  height  width   area  \\\n",
       "18  18  Text         189         454      216      260      44    265  11660   \n",
       "19  19  Text         188         444      457      475      18    256   4608   \n",
       "20  20  Text         189         460      700      747      47    271  12737   \n",
       "\n",
       "            center  center_column  center_row  \\\n",
       "18  (321.5, 238.0)          321.5       238.0   \n",
       "19  (316.0, 466.0)          316.0       466.0   \n",
       "20  (324.5, 723.5)          324.5       723.5   \n",
       "\n",
       "                                text_content  children  parent  \\\n",
       "18  BonTon : Pink Rose Dresses\\n$ 17 Shipped        -1      -1   \n",
       "19                WHBM : Extra 40 % Off Sale        -1      -1   \n",
       "20  12 Ribbed Cotton Tank Tops\\n$ 25 Shipped        -1      -1   \n",
       "\n",
       "   alignment_in_group  gap group  \n",
       "18                  v  197   t-2  \n",
       "19                  v  225   t-2  \n",
       "20                  v   -1   t-2  "
      ]
     },
     "execution_count": 12,
     "metadata": {},
     "output_type": "execute_result"
    }
   ],
   "source": [
    "df[df['group'] == 't-2']"
   ]
  },
  {
   "cell_type": "code",
   "execution_count": null,
   "metadata": {},
   "outputs": [],
   "source": []
  },
  {
   "cell_type": "code",
   "execution_count": 12,
   "metadata": {},
   "outputs": [],
   "source": [
    "from sklearn.cluster import DBSCAN\n",
    "import numpy as np"
   ]
  },
  {
   "cell_type": "code",
   "execution_count": 13,
   "metadata": {},
   "outputs": [],
   "source": [
    "group_compos = df[df['group'] == 't-3']\n",
    "if group_compos.iloc[0]['alignment_in_group'] == 'v':\n",
    "    group_compos = group_compos.sort_values('center_row')\n",
    "else:\n",
    "    group_compos = group_compos.sort_values('center_column')\n",
    "gaps = list(group_compos['gap'])\n",
    "\n",
    "clustering = DBSCAN(eps=10, min_samples=1).fit(np.reshape(gaps[:-1], (-1, 1)))\n",
    "gap_labels = list(clustering.labels_)\n",
    "gap_label_count = dict((i, gap_labels.count(i)) for i in gap_labels)  # {label: frequency of label}"
   ]
  },
  {
   "cell_type": "code",
   "execution_count": 14,
   "metadata": {},
   "outputs": [
    {
     "data": {
      "text/plain": [
       "{0: 1, 1: 4, 2: 1}"
      ]
     },
     "execution_count": 14,
     "metadata": {},
     "output_type": "execute_result"
    }
   ],
   "source": [
    "gap_label_count"
   ]
  },
  {
   "cell_type": "code",
   "execution_count": 15,
   "metadata": {},
   "outputs": [
    {
     "data": {
      "text/plain": [
       "[0, 1, 1, 1, 1, 2]"
      ]
     },
     "execution_count": 15,
     "metadata": {},
     "output_type": "execute_result"
    }
   ],
   "source": [
    "gap_labels"
   ]
  },
  {
   "cell_type": "code",
   "execution_count": 23,
   "metadata": {
    "scrolled": true
   },
   "outputs": [
    {
     "data": {
      "text/html": [
       "<div>\n",
       "<style scoped>\n",
       "    .dataframe tbody tr th:only-of-type {\n",
       "        vertical-align: middle;\n",
       "    }\n",
       "\n",
       "    .dataframe tbody tr th {\n",
       "        vertical-align: top;\n",
       "    }\n",
       "\n",
       "    .dataframe thead th {\n",
       "        text-align: right;\n",
       "    }\n",
       "</style>\n",
       "<table border=\"1\" class=\"dataframe\">\n",
       "  <thead>\n",
       "    <tr style=\"text-align: right;\">\n",
       "      <th></th>\n",
       "      <th>id</th>\n",
       "      <th>class</th>\n",
       "      <th>column_min</th>\n",
       "      <th>column_max</th>\n",
       "      <th>row_min</th>\n",
       "      <th>row_max</th>\n",
       "      <th>height</th>\n",
       "      <th>width</th>\n",
       "      <th>area</th>\n",
       "      <th>center</th>\n",
       "      <th>center_column</th>\n",
       "      <th>center_row</th>\n",
       "      <th>text_content</th>\n",
       "      <th>children</th>\n",
       "      <th>parent</th>\n",
       "      <th>alignment_in_group</th>\n",
       "      <th>gap</th>\n",
       "      <th>group</th>\n",
       "    </tr>\n",
       "  </thead>\n",
       "  <tbody>\n",
       "    <tr>\n",
       "      <th>16</th>\n",
       "      <td>16</td>\n",
       "      <td>Text</td>\n",
       "      <td>2</td>\n",
       "      <td>26</td>\n",
       "      <td>45</td>\n",
       "      <td>59</td>\n",
       "      <td>14</td>\n",
       "      <td>24</td>\n",
       "      <td>336</td>\n",
       "      <td>(14.0, 52.0)</td>\n",
       "      <td>14.0</td>\n",
       "      <td>52.0</td>\n",
       "      <td>( E</td>\n",
       "      <td>-1</td>\n",
       "      <td>-1</td>\n",
       "      <td>v</td>\n",
       "      <td>101</td>\n",
       "      <td>t-3</td>\n",
       "    </tr>\n",
       "    <tr>\n",
       "      <th>19</th>\n",
       "      <td>19</td>\n",
       "      <td>Text</td>\n",
       "      <td>28</td>\n",
       "      <td>147</td>\n",
       "      <td>160</td>\n",
       "      <td>175</td>\n",
       "      <td>15</td>\n",
       "      <td>119</td>\n",
       "      <td>1785</td>\n",
       "      <td>(87.5, 167.5)</td>\n",
       "      <td>87.5</td>\n",
       "      <td>167.5</td>\n",
       "      <td>Search Foods</td>\n",
       "      <td>-1</td>\n",
       "      <td>-1</td>\n",
       "      <td>v</td>\n",
       "      <td>76</td>\n",
       "      <td>t-3</td>\n",
       "    </tr>\n",
       "    <tr>\n",
       "      <th>20</th>\n",
       "      <td>20</td>\n",
       "      <td>Text</td>\n",
       "      <td>24</td>\n",
       "      <td>108</td>\n",
       "      <td>251</td>\n",
       "      <td>264</td>\n",
       "      <td>13</td>\n",
       "      <td>84</td>\n",
       "      <td>1092</td>\n",
       "      <td>(66.0, 257.5)</td>\n",
       "      <td>66.0</td>\n",
       "      <td>257.5</td>\n",
       "      <td>+ Breakfast</td>\n",
       "      <td>-1</td>\n",
       "      <td>-1</td>\n",
       "      <td>v</td>\n",
       "      <td>68</td>\n",
       "      <td>t-3</td>\n",
       "    </tr>\n",
       "    <tr>\n",
       "      <th>21</th>\n",
       "      <td>21</td>\n",
       "      <td>Text</td>\n",
       "      <td>23</td>\n",
       "      <td>80</td>\n",
       "      <td>332</td>\n",
       "      <td>345</td>\n",
       "      <td>13</td>\n",
       "      <td>57</td>\n",
       "      <td>741</td>\n",
       "      <td>(51.5, 338.5)</td>\n",
       "      <td>51.5</td>\n",
       "      <td>338.5</td>\n",
       "      <td>+ Lunch</td>\n",
       "      <td>-1</td>\n",
       "      <td>-1</td>\n",
       "      <td>v</td>\n",
       "      <td>68</td>\n",
       "      <td>t-3</td>\n",
       "    </tr>\n",
       "    <tr>\n",
       "      <th>22</th>\n",
       "      <td>22</td>\n",
       "      <td>Text</td>\n",
       "      <td>23</td>\n",
       "      <td>84</td>\n",
       "      <td>413</td>\n",
       "      <td>426</td>\n",
       "      <td>13</td>\n",
       "      <td>61</td>\n",
       "      <td>793</td>\n",
       "      <td>(53.5, 419.5)</td>\n",
       "      <td>53.5</td>\n",
       "      <td>419.5</td>\n",
       "      <td>+ Dinner</td>\n",
       "      <td>-1</td>\n",
       "      <td>-1</td>\n",
       "      <td>v</td>\n",
       "      <td>68</td>\n",
       "      <td>t-3</td>\n",
       "    </tr>\n",
       "    <tr>\n",
       "      <th>23</th>\n",
       "      <td>23</td>\n",
       "      <td>Text</td>\n",
       "      <td>24</td>\n",
       "      <td>81</td>\n",
       "      <td>494</td>\n",
       "      <td>506</td>\n",
       "      <td>12</td>\n",
       "      <td>57</td>\n",
       "      <td>684</td>\n",
       "      <td>(52.5, 500.0)</td>\n",
       "      <td>52.5</td>\n",
       "      <td>500.0</td>\n",
       "      <td>+ Snack</td>\n",
       "      <td>-1</td>\n",
       "      <td>-1</td>\n",
       "      <td>v</td>\n",
       "      <td>44</td>\n",
       "      <td>t-3</td>\n",
       "    </tr>\n",
       "    <tr>\n",
       "      <th>24</th>\n",
       "      <td>24</td>\n",
       "      <td>Text</td>\n",
       "      <td>17</td>\n",
       "      <td>64</td>\n",
       "      <td>550</td>\n",
       "      <td>563</td>\n",
       "      <td>13</td>\n",
       "      <td>47</td>\n",
       "      <td>611</td>\n",
       "      <td>(40.5, 556.5)</td>\n",
       "      <td>40.5</td>\n",
       "      <td>556.5</td>\n",
       "      <td>Totals</td>\n",
       "      <td>-1</td>\n",
       "      <td>-1</td>\n",
       "      <td>v</td>\n",
       "      <td>-1</td>\n",
       "      <td>t-3</td>\n",
       "    </tr>\n",
       "  </tbody>\n",
       "</table>\n",
       "</div>"
      ],
      "text/plain": [
       "    id class  column_min  column_max  row_min  row_max  height  width  area  \\\n",
       "16  16  Text           2          26       45       59      14     24   336   \n",
       "19  19  Text          28         147      160      175      15    119  1785   \n",
       "20  20  Text          24         108      251      264      13     84  1092   \n",
       "21  21  Text          23          80      332      345      13     57   741   \n",
       "22  22  Text          23          84      413      426      13     61   793   \n",
       "23  23  Text          24          81      494      506      12     57   684   \n",
       "24  24  Text          17          64      550      563      13     47   611   \n",
       "\n",
       "           center  center_column  center_row  text_content  children  parent  \\\n",
       "16   (14.0, 52.0)           14.0        52.0           ( E        -1      -1   \n",
       "19  (87.5, 167.5)           87.5       167.5  Search Foods        -1      -1   \n",
       "20  (66.0, 257.5)           66.0       257.5   + Breakfast        -1      -1   \n",
       "21  (51.5, 338.5)           51.5       338.5       + Lunch        -1      -1   \n",
       "22  (53.5, 419.5)           53.5       419.5      + Dinner        -1      -1   \n",
       "23  (52.5, 500.0)           52.5       500.0       + Snack        -1      -1   \n",
       "24  (40.5, 556.5)           40.5       556.5        Totals        -1      -1   \n",
       "\n",
       "   alignment_in_group  gap group  \n",
       "16                  v  101   t-3  \n",
       "19                  v   76   t-3  \n",
       "20                  v   68   t-3  \n",
       "21                  v   68   t-3  \n",
       "22                  v   68   t-3  \n",
       "23                  v   44   t-3  \n",
       "24                  v   -1   t-3  "
      ]
     },
     "execution_count": 23,
     "metadata": {},
     "output_type": "execute_result"
    }
   ],
   "source": [
    "group_compos"
   ]
  },
  {
   "cell_type": "code",
   "execution_count": 18,
   "metadata": {},
   "outputs": [],
   "source": [
    "gaps = list(group_compos['gap'])"
   ]
  },
  {
   "cell_type": "code",
   "execution_count": 20,
   "metadata": {},
   "outputs": [
    {
     "data": {
      "text/plain": [
       "[101, 76, 68, 68, 68, 44, -1]"
      ]
     },
     "execution_count": 20,
     "metadata": {},
     "output_type": "execute_result"
    }
   ],
   "source": [
    "gaps"
   ]
  },
  {
   "cell_type": "code",
   "execution_count": null,
   "metadata": {},
   "outputs": [],
   "source": [
    "for i in range(len)"
   ]
  }
 ],
 "metadata": {
  "kernelspec": {
   "display_name": "Python 3",
   "language": "python",
   "name": "python3"
  },
  "language_info": {
   "codemirror_mode": {
    "name": "ipython",
    "version": 3
   },
   "file_extension": ".py",
   "mimetype": "text/x-python",
   "name": "python",
   "nbconvert_exporter": "python",
   "pygments_lexer": "ipython3",
   "version": "3.5.6"
  }
 },
 "nbformat": 4,
 "nbformat_minor": 2
}
