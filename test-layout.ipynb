{
 "cells": [
  {
   "cell_type": "code",
   "execution_count": 1,
   "metadata": {},
   "outputs": [],
   "source": [
    "from GUI import GUI\n",
    "from layout.obj.Compo import Compo\n",
    "import layout.lib.pairing as pairing\n",
    "import layout.lib.repetition_recognition as rep\n",
    "import layout.lib.draw as draw\n",
    "from sklearn.cluster import DBSCAN\n",
    "\n",
    "import cv2\n",
    "import pandas as pd\n",
    "import math\n",
    "import numpy as np\n",
    "import os\n",
    "from os.path import join as pjoin"
   ]
  },
  {
   "cell_type": "code",
   "execution_count": 2,
   "metadata": {},
   "outputs": [],
   "source": [
    "# gui = GUI(img_file='E:\\\\Mulong\\\\Datasets\\\\gui\\\\rico\\\\combined\\\\all\\\\10727.jpg', output_dir='E:\\\\Mulong\\\\Result\\\\rico-layout\\\\result')"
   ]
  },
  {
   "cell_type": "code",
   "execution_count": 3,
   "metadata": {},
   "outputs": [],
   "source": [
    "gui = GUI(img_file='data/input/11.jpg')"
   ]
  },
  {
   "cell_type": "code",
   "execution_count": 4,
   "metadata": {},
   "outputs": [],
   "source": [
    "gui.element_detection()\n",
    "# gui.visualize_element_detection()"
   ]
  },
  {
   "cell_type": "code",
   "execution_count": 6,
   "metadata": {
    "scrolled": false
   },
   "outputs": [
    {
     "name": "stdout",
     "output_type": "stream",
     "text": [
      "15 1 t-1 1\n",
      "[Layout Recognition Completed in 0.492 s] Input: data/input/11.jpg Output: data/output\\layout\\11.json\n"
     ]
    }
   ],
   "source": [
    "gui.layout_recognition()\n",
    "gui.visualize_layout_recognition()"
   ]
  },
  {
   "cell_type": "code",
   "execution_count": 6,
   "metadata": {},
   "outputs": [],
   "source": [
    "gui.visualize_element_detection()"
   ]
  },
  {
   "cell_type": "code",
   "execution_count": 18,
   "metadata": {},
   "outputs": [],
   "source": [
    "gui.visualize_layout_recognition()"
   ]
  },
  {
   "cell_type": "code",
   "execution_count": null,
   "metadata": {},
   "outputs": [],
   "source": []
  },
  {
   "cell_type": "code",
   "execution_count": null,
   "metadata": {},
   "outputs": [],
   "source": []
  },
  {
   "cell_type": "code",
   "execution_count": 6,
   "metadata": {},
   "outputs": [],
   "source": [
    "gui.cvt_compos_json_to_dataframe()"
   ]
  },
  {
   "cell_type": "code",
   "execution_count": 7,
   "metadata": {},
   "outputs": [],
   "source": [
    "gui.compos_df.repetitive_group_recognition(show=True)"
   ]
  },
  {
   "cell_type": "code",
   "execution_count": 8,
   "metadata": {},
   "outputs": [],
   "source": [
    "gui.compos_df.pair_groups()"
   ]
  },
  {
   "cell_type": "code",
   "execution_count": 6,
   "metadata": {},
   "outputs": [],
   "source": [
    "b = gui.visualize_compos_df('group')"
   ]
  },
  {
   "cell_type": "code",
   "execution_count": null,
   "metadata": {},
   "outputs": [],
   "source": []
  },
  {
   "cell_type": "code",
   "execution_count": null,
   "metadata": {},
   "outputs": [],
   "source": []
  },
  {
   "cell_type": "code",
   "execution_count": null,
   "metadata": {},
   "outputs": [],
   "source": []
  },
  {
   "cell_type": "code",
   "execution_count": 63,
   "metadata": {},
   "outputs": [],
   "source": [
    "gui.compos_df.compos_dataframe = df"
   ]
  },
  {
   "cell_type": "code",
   "execution_count": 6,
   "metadata": {},
   "outputs": [],
   "source": [
    "df = gui.compos_df.compos_dataframe"
   ]
  },
  {
   "cell_type": "code",
   "execution_count": 8,
   "metadata": {},
   "outputs": [],
   "source": [
    "pair = df.groupby('group_pair').groups[1]\n",
    "pair_all_compos = df.loc[pair]"
   ]
  },
  {
   "cell_type": "code",
   "execution_count": 9,
   "metadata": {},
   "outputs": [],
   "source": [
    "paired_groups = pair_all_compos.groupby('group').groups"
   ]
  },
  {
   "cell_type": "code",
   "execution_count": 10,
   "metadata": {},
   "outputs": [
    {
     "data": {
      "text/plain": [
       "{'nt-0': Int64Index([3, 5, 7], dtype='int64'),\n",
       " 'nt-1': Int64Index([4, 6, 8], dtype='int64'),\n",
       " 't-0': Int64Index([12, 14, 16], dtype='int64'),\n",
       " 't-1': Int64Index([13, 17], dtype='int64')}"
      ]
     },
     "execution_count": 10,
     "metadata": {},
     "output_type": "execute_result"
    }
   ],
   "source": [
    "paired_groups"
   ]
  },
  {
   "cell_type": "code",
   "execution_count": 13,
   "metadata": {},
   "outputs": [],
   "source": [
    "def calc_compo_related_position_in_its_paired_item(compos):\n",
    "    related_pos = None\n",
    "    for i in range(len(compos)):\n",
    "        compo = compos.iloc[i]\n",
    "        # get the position of the item to which the compo belongs     \n",
    "        item = pair_all_compos[pair_all_compos['list_item'] == compo['list_item']]\n",
    "        item_pos = item['column_min'].min(), item['row_min'].min()    \n",
    "        \n",
    "        if related_pos is None:\n",
    "            related_pos = compo['column_min'] - item_pos[0], compo['row_min'] - item_pos[1], compo['column_max'] - item_pos[0], compo['row_max'] - item_pos[1]\n",
    "        else:\n",
    "            related_pos = (min(related_pos[0], compo['column_min'] - item_pos[0]), min(related_pos[1], compo['row_min'] - item_pos[1]), \n",
    "                           max(related_pos[2], compo['column_max'] - item_pos[0]), max(related_pos[3], compo['row_max'] - item_pos[1]))\n",
    "    return related_pos"
   ]
  },
  {
   "cell_type": "code",
   "execution_count": 57,
   "metadata": {},
   "outputs": [],
   "source": [
    "def calc_intersected_area(bound1, bound2):\n",
    "    '''\n",
    "    bound: [column_min, row_min, column_max, row_max]\n",
    "    '''\n",
    "    col_min_s = max(bound1[0], bound2[0])\n",
    "    row_min_s = max(bound1[1], bound2[1])\n",
    "    col_max_s = min(bound1[2], bound2[2])\n",
    "    row_max_s = min(bound1[3], bound2[3])\n",
    "    w = np.maximum(0, col_max_s - col_min_s)\n",
    "    h = np.maximum(0, row_max_s - row_min_s)\n",
    "    inter = w * h\n",
    "    return inter"
   ]
  },
  {
   "cell_type": "code",
   "execution_count": 61,
   "metadata": {},
   "outputs": [],
   "source": [
    "def find_missed_compo_by_iou_with_potential_area(potential_area):\n",
    "    unpaired_compos = df[df['group_pair'] == -1]\n",
    "    for i in range(len(unpaired_compos)):\n",
    "        up = unpaired_compos.iloc[i]\n",
    "        inter = calc_intersected_area((up['column_min'], up['row_min'], up['column_max'], up['row_max']), potential_area)    \n",
    "        if inter > 0 and inter/up['area'] > 0.5:\n",
    "            return up['id']\n",
    "    return None"
   ]
  },
  {
   "cell_type": "code",
   "execution_count": 62,
   "metadata": {},
   "outputs": [],
   "source": [
    "max_group_compo_num = max([len(paired_groups[i]) for i in paired_groups])\n",
    "for i in paired_groups:\n",
    "    # Identify abnormal groups that have fewer compos that others do    \n",
    "    if len(paired_groups[i]) < max_group_compo_num:\n",
    "        # calculate the related position of the group compos in their paired item\n",
    "        group_compos = df.loc[paired_groups[i]]  # compos in the abnormal group     \n",
    "        compo_related_pos = calc_compo_related_position_in_its_paired_item(group_compos)  # (column_min, row_min, column_max, row_max)\n",
    "        \n",
    "        # identify the abnormal item and its position \n",
    "        abnormal_items = pair_all_compos[~pair_all_compos['list_item'].isin(list(group_compos['list_item']))]   \n",
    "        abnormal_items_grp = abnormal_items.groupby('list_item').groups\n",
    "        for j in abnormal_items_grp:\n",
    "            abnormal_item = abnormal_items.loc[abnormal_items_grp[j]]\n",
    "            abnormal_item_pos = abnormal_item['column_min'].min(), abnormal_item['row_min'].min()    \n",
    "        \n",
    "            # calculate the potential missed compo area based on the related compo position and the absolute item position\n",
    "            potential_missed_compo_area = (compo_related_pos[0] + abnormal_item_pos[0], compo_related_pos[1] + abnormal_item_pos[1],\n",
    "                                           compo_related_pos[2] + abnormal_item_pos[0], compo_related_pos[3] + abnormal_item_pos[1])\n",
    "        \n",
    "            # find the potential missed compo through iou with the potential_missed_compo_area\n",
    "            missed_compo_id = find_missed_compo_by_iou_with_potential_area(potential_missed_compo_area)\n",
    "            if missed_compo_id:\n",
    "                df.loc[missed_compo_id, 'group'] = i\n",
    "                df.loc[missed_compo_id, 'list_itm'] = j"
   ]
  },
  {
   "cell_type": "code",
   "execution_count": 53,
   "metadata": {},
   "outputs": [
    {
     "data": {
      "text/plain": [
       "(170, 56, 442, 108)"
      ]
     },
     "execution_count": 53,
     "metadata": {},
     "output_type": "execute_result"
    }
   ],
   "source": [
    "related_pos"
   ]
  },
  {
   "cell_type": "code",
   "execution_count": 54,
   "metadata": {},
   "outputs": [
    {
     "data": {
      "text/plain": [
       "(188, 454, 460, 506)"
      ]
     },
     "execution_count": 54,
     "metadata": {},
     "output_type": "execute_result"
    }
   ],
   "source": [
    "potential_missed_compo_area"
   ]
  },
  {
   "cell_type": "code",
   "execution_count": null,
   "metadata": {},
   "outputs": [],
   "source": []
  },
  {
   "cell_type": "code",
   "execution_count": 55,
   "metadata": {},
   "outputs": [
    {
     "data": {
      "text/plain": [
       "{1: Int64Index([5, 6, 14], dtype='int64')}"
      ]
     },
     "execution_count": 55,
     "metadata": {},
     "output_type": "execute_result"
    }
   ],
   "source": [
    "abnormal_items_grp"
   ]
  },
  {
   "cell_type": "code",
   "execution_count": 56,
   "metadata": {},
   "outputs": [],
   "source": [
    "board = gui.img_resized.copy()\n",
    "cv2.rectangle(board, potential_missed_compo_area[:2], potential_missed_compo_area[2:], (0,255,0), 2)\n",
    "cv2.imshow('board', board)\n",
    "cv2.waitKey()\n",
    "cv2.destroyAllWindows()"
   ]
  },
  {
   "cell_type": "code",
   "execution_count": null,
   "metadata": {},
   "outputs": [],
   "source": []
  },
  {
   "cell_type": "code",
   "execution_count": 39,
   "metadata": {},
   "outputs": [],
   "source": []
  },
  {
   "cell_type": "code",
   "execution_count": null,
   "metadata": {},
   "outputs": [],
   "source": []
  },
  {
   "cell_type": "code",
   "execution_count": null,
   "metadata": {},
   "outputs": [],
   "source": []
  },
  {
   "cell_type": "code",
   "execution_count": null,
   "metadata": {},
   "outputs": [],
   "source": []
  },
  {
   "cell_type": "code",
   "execution_count": null,
   "metadata": {},
   "outputs": [],
   "source": []
  },
  {
   "cell_type": "code",
   "execution_count": 8,
   "metadata": {},
   "outputs": [],
   "source": [
    "gui.cvt_compos_json_to_dataframe()\n",
    "gui.compos_df.repetitive_group_recognition(show=True)"
   ]
  },
  {
   "cell_type": "code",
   "execution_count": 7,
   "metadata": {},
   "outputs": [],
   "source": [
    "gui.compos_df.calc_gap_in_group()"
   ]
  },
  {
   "cell_type": "code",
   "execution_count": 9,
   "metadata": {},
   "outputs": [],
   "source": [
    "df = gui.compos_df.compos_dataframe\n",
    "g_nt1 = df[df['group'] == 'nt-1']\n",
    "g_t3 = df[df['group'] == 't-3']"
   ]
  },
  {
   "cell_type": "code",
   "execution_count": 10,
   "metadata": {},
   "outputs": [
    {
     "name": "stdout",
     "output_type": "stream",
     "text": [
      "[-1, -1] Corner Angles: [1, -2] Center Angles: [10, 3]\n"
     ]
    },
    {
     "name": "stderr",
     "output_type": "stream",
     "text": [
      "D:\\Anaconda\\lib\\site-packages\\pandas\\core\\indexing.py:362: SettingWithCopyWarning: \n",
      "A value is trying to be set on a copy of a slice from a DataFrame.\n",
      "Try using .loc[row_indexer,col_indexer] = value instead\n",
      "\n",
      "See the caveats in the documentation: http://pandas.pydata.org/pandas-docs/stable/indexing.html#indexing-view-versus-copy\n",
      "  self.obj[key] = _infer_fill_value(value)\n",
      "D:\\Anaconda\\lib\\site-packages\\pandas\\core\\indexing.py:543: SettingWithCopyWarning: \n",
      "A value is trying to be set on a copy of a slice from a DataFrame.\n",
      "Try using .loc[row_indexer,col_indexer] = value instead\n",
      "\n",
      "See the caveats in the documentation: http://pandas.pydata.org/pandas-docs/stable/indexing.html#indexing-view-versus-copy\n",
      "  self.obj[item] = s\n"
     ]
    },
    {
     "data": {
      "text/plain": [
       "True"
      ]
     },
     "execution_count": 10,
     "metadata": {},
     "output_type": "execute_result"
    }
   ],
   "source": [
    "pairing.match_two_groups_by_angles_and_y_distance(g_nt1, g_t3)"
   ]
  }
 ],
 "metadata": {
  "kernelspec": {
   "display_name": "Python 3",
   "language": "python",
   "name": "python3"
  },
  "language_info": {
   "codemirror_mode": {
    "name": "ipython",
    "version": 3
   },
   "file_extension": ".py",
   "mimetype": "text/x-python",
   "name": "python",
   "nbconvert_exporter": "python",
   "pygments_lexer": "ipython3",
   "version": "3.5.6"
  }
 },
 "nbformat": 4,
 "nbformat_minor": 2
}
