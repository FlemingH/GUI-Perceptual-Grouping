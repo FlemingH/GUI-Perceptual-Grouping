{
 "cells": [
  {
   "cell_type": "code",
   "execution_count": 1,
   "metadata": {},
   "outputs": [],
   "source": [
    "from GUI import GUI\n",
    "from layout.obj.Compo import Compo\n",
    "import layout.lib.pairing as pairing\n",
    "import layout.lib.repetition_recognition as rep\n",
    "import layout.lib.draw as draw\n",
    "from sklearn.cluster import DBSCAN\n",
    "\n",
    "import cv2\n",
    "import pandas as pd\n",
    "import math\n",
    "import numpy as np\n",
    "import os\n",
    "from os.path import join as pjoin"
   ]
  },
  {
   "cell_type": "code",
   "execution_count": 2,
   "metadata": {},
   "outputs": [],
   "source": [
    "gui = GUI(img_file='E:\\\\Mulong\\\\Datasets\\\\gui\\\\rico\\\\combined\\\\all\\\\2114.jpg', output_dir='E:\\\\Temp\\\\data\\\\rico-layout\\\\result')"
   ]
  },
  {
   "cell_type": "code",
   "execution_count": 3,
   "metadata": {},
   "outputs": [],
   "source": [
    "gui.element_detection()\n",
    "# gui.visualize_element_detection()"
   ]
  },
  {
   "cell_type": "code",
   "execution_count": 4,
   "metadata": {
    "scrolled": false
   },
   "outputs": [
    {
     "name": "stdout",
     "output_type": "stream",
     "text": [
      "nt-0 False - t-0 False\n",
      "[Layout Recognition Completed in 1.146 s] Input: E:\\Mulong\\Datasets\\gui\\rico\\combined\\all\\2114.jpg Output: E:\\Temp\\data\\rico-layout\\result\\layout\\2114.json\n",
      "Mon Aug 23 11:36:33 2021 \n",
      "\n",
      "\n"
     ]
    }
   ],
   "source": [
    "gui.layout_recognition()\n",
    "gui.visualize_layout_recognition()"
   ]
  },
  {
   "cell_type": "code",
   "execution_count": null,
   "metadata": {},
   "outputs": [],
   "source": []
  },
  {
   "cell_type": "code",
   "execution_count": null,
   "metadata": {},
   "outputs": [],
   "source": []
  },
  {
   "cell_type": "code",
   "execution_count": 11,
   "metadata": {},
   "outputs": [],
   "source": [
    "gui.cvt_compos_json_to_dataframe()"
   ]
  },
  {
   "cell_type": "code",
   "execution_count": 12,
   "metadata": {},
   "outputs": [],
   "source": [
    "gui.compos_df.repetitive_group_recognition(show=False)"
   ]
  },
  {
   "cell_type": "code",
   "execution_count": 13,
   "metadata": {},
   "outputs": [
    {
     "name": "stdout",
     "output_type": "stream",
     "text": [
      "t-0 False - nt-0 False\n"
     ]
    }
   ],
   "source": [
    "gui.compos_df.pair_groups()"
   ]
  },
  {
   "cell_type": "code",
   "execution_count": 15,
   "metadata": {},
   "outputs": [],
   "source": [
    "gui.compos_df.repetitive_block_recognition()"
   ]
  },
  {
   "cell_type": "code",
   "execution_count": 16,
   "metadata": {},
   "outputs": [],
   "source": [
    "b = gui.visualize_compos_df('group')"
   ]
  },
  {
   "cell_type": "code",
   "execution_count": null,
   "metadata": {},
   "outputs": [],
   "source": []
  },
  {
   "cell_type": "code",
   "execution_count": null,
   "metadata": {},
   "outputs": [],
   "source": []
  },
  {
   "cell_type": "code",
   "execution_count": null,
   "metadata": {},
   "outputs": [],
   "source": []
  },
  {
   "cell_type": "code",
   "execution_count": 4,
   "metadata": {},
   "outputs": [],
   "source": [
    "gui.cvt_compos_json_to_dataframe()\n",
    "gui.compos_df.repetitive_group_recognition()"
   ]
  },
  {
   "cell_type": "code",
   "execution_count": 5,
   "metadata": {},
   "outputs": [],
   "source": [
    "gui.compos_df.calc_gap_in_group()"
   ]
  },
  {
   "cell_type": "code",
   "execution_count": 8,
   "metadata": {},
   "outputs": [],
   "source": [
    "df = gui.compos_df.compos_dataframe\n",
    "g_nt0 = df[df['group'] == 'nt-0']\n",
    "g_t0 = df[df['group'] == 't-0']"
   ]
  },
  {
   "cell_type": "code",
   "execution_count": 9,
   "metadata": {},
   "outputs": [
    {
     "name": "stdout",
     "output_type": "stream",
     "text": [
      "[[-48, 5, 23, 47, 63, None, None, None, None, None, None, None, None], [None, -42, -30, 6, 45, 63, None, None, None, None, None, None, None], [None, None, -56, -39, 5, 45, 63, None, None, None, None, None, None], [None, None, None, -60, -40, 4, 46, 63, None, None, None, None, None], [None, None, None, None, -61, -41, 5, 45, 63, None, None, None, None], [None, None, None, None, None, -61, -40, 5, 47, 63, None, None, None], [None, None, None, None, None, None, -60, -40, 7, 46, 63, None, None], [None, None, None, None, None, None, None, -60, -39, 6, 46, 63, None], [None, None, None, None, None, None, None, None, -60, -40, 6, 45, 63], [None, None, None, None, None, None, None, None, None, -60, -39, 5, 46]]\n",
      "[[42, -1, -1, 25, 85, None, None, None, None, None, None, None, None], [None, 46, 26, -1, 23, 84, None, None, None, None, None, None, None], [None, None, 87, 19, -1, 22, 85, None, None, None, None, None, None], [None, None, None, 81, 19, -1, 24, 85, None, None, None, None, None], [None, None, None, None, 81, 19, -1, 23, 87, None, None, None, None], [None, None, None, None, None, 80, 19, -1, 26, 86, None, None, None], [None, None, None, None, None, None, 81, 19, -1, 23, 85, None, None], [None, None, None, None, None, None, None, 80, 20, -1, 25, 85, None], [None, None, None, None, None, None, None, None, 82, 19, -1, 23, 86], [None, None, None, None, None, None, None, None, None, 80, 18, -1, 25]]\n"
     ]
    },
    {
     "name": "stderr",
     "output_type": "stream",
     "text": [
      "D:\\Anaconda\\lib\\site-packages\\pandas\\core\\indexing.py:362: SettingWithCopyWarning: \n",
      "A value is trying to be set on a copy of a slice from a DataFrame.\n",
      "Try using .loc[row_indexer,col_indexer] = value instead\n",
      "\n",
      "See the caveats in the documentation: http://pandas.pydata.org/pandas-docs/stable/indexing.html#indexing-view-versus-copy\n",
      "  self.obj[key] = _infer_fill_value(value)\n",
      "D:\\Anaconda\\lib\\site-packages\\pandas\\core\\indexing.py:543: SettingWithCopyWarning: \n",
      "A value is trying to be set on a copy of a slice from a DataFrame.\n",
      "Try using .loc[row_indexer,col_indexer] = value instead\n",
      "\n",
      "See the caveats in the documentation: http://pandas.pydata.org/pandas-docs/stable/indexing.html#indexing-view-versus-copy\n",
      "  self.obj[item] = s\n"
     ]
    },
    {
     "data": {
      "text/plain": [
       "True"
      ]
     },
     "execution_count": 9,
     "metadata": {},
     "output_type": "execute_result"
    }
   ],
   "source": [
    "pairing.match_two_groups_with_text_by_angles_and_y_distance(g_nt0, g_t0)"
   ]
  },
  {
   "cell_type": "code",
   "execution_count": null,
   "metadata": {},
   "outputs": [],
   "source": [
    "pairing.match_two_groups_by_distance(g_nt1, g_t6)"
   ]
  },
  {
   "cell_type": "code",
   "execution_count": 14,
   "metadata": {},
   "outputs": [
    {
     "data": {
      "text/html": [
       "<div>\n",
       "<style scoped>\n",
       "    .dataframe tbody tr th:only-of-type {\n",
       "        vertical-align: middle;\n",
       "    }\n",
       "\n",
       "    .dataframe tbody tr th {\n",
       "        vertical-align: top;\n",
       "    }\n",
       "\n",
       "    .dataframe thead th {\n",
       "        text-align: right;\n",
       "    }\n",
       "</style>\n",
       "<table border=\"1\" class=\"dataframe\">\n",
       "  <thead>\n",
       "    <tr style=\"text-align: right;\">\n",
       "      <th></th>\n",
       "      <th>id</th>\n",
       "      <th>class</th>\n",
       "      <th>column_min</th>\n",
       "      <th>column_max</th>\n",
       "      <th>row_min</th>\n",
       "      <th>row_max</th>\n",
       "      <th>height</th>\n",
       "      <th>width</th>\n",
       "      <th>area</th>\n",
       "      <th>center</th>\n",
       "      <th>...</th>\n",
       "      <th>center_row</th>\n",
       "      <th>text_content</th>\n",
       "      <th>children</th>\n",
       "      <th>parent</th>\n",
       "      <th>alignment_in_group</th>\n",
       "      <th>gap</th>\n",
       "      <th>group</th>\n",
       "      <th>pair_to</th>\n",
       "      <th>group_pair</th>\n",
       "      <th>list_item</th>\n",
       "    </tr>\n",
       "  </thead>\n",
       "  <tbody>\n",
       "    <tr>\n",
       "      <th>8</th>\n",
       "      <td>8</td>\n",
       "      <td>Compo</td>\n",
       "      <td>17</td>\n",
       "      <td>26</td>\n",
       "      <td>410</td>\n",
       "      <td>423</td>\n",
       "      <td>13</td>\n",
       "      <td>9</td>\n",
       "      <td>117</td>\n",
       "      <td>(21.5, 416.5)</td>\n",
       "      <td>...</td>\n",
       "      <td>416.5</td>\n",
       "      <td>-1</td>\n",
       "      <td>-1</td>\n",
       "      <td>-1</td>\n",
       "      <td>v</td>\n",
       "      <td>77</td>\n",
       "      <td>nt-1</td>\n",
       "      <td>-1</td>\n",
       "      <td>-1</td>\n",
       "      <td>-1</td>\n",
       "    </tr>\n",
       "    <tr>\n",
       "      <th>10</th>\n",
       "      <td>10</td>\n",
       "      <td>Compo</td>\n",
       "      <td>17</td>\n",
       "      <td>26</td>\n",
       "      <td>500</td>\n",
       "      <td>512</td>\n",
       "      <td>12</td>\n",
       "      <td>9</td>\n",
       "      <td>108</td>\n",
       "      <td>(21.5, 506.0)</td>\n",
       "      <td>...</td>\n",
       "      <td>506.0</td>\n",
       "      <td>-1</td>\n",
       "      <td>-1</td>\n",
       "      <td>-1</td>\n",
       "      <td>v</td>\n",
       "      <td>-1</td>\n",
       "      <td>nt-1</td>\n",
       "      <td>-1</td>\n",
       "      <td>-1</td>\n",
       "      <td>-1</td>\n",
       "    </tr>\n",
       "  </tbody>\n",
       "</table>\n",
       "<p>2 rows × 21 columns</p>\n",
       "</div>"
      ],
      "text/plain": [
       "    id  class  column_min  column_max  row_min  row_max  height  width  area  \\\n",
       "8    8  Compo          17          26      410      423      13      9   117   \n",
       "10  10  Compo          17          26      500      512      12      9   108   \n",
       "\n",
       "           center    ...      center_row  text_content children parent  \\\n",
       "8   (21.5, 416.5)    ...           416.5            -1       -1     -1   \n",
       "10  (21.5, 506.0)    ...           506.0            -1       -1     -1   \n",
       "\n",
       "    alignment_in_group gap  group pair_to  group_pair  list_item  \n",
       "8                    v  77   nt-1      -1          -1         -1  \n",
       "10                   v  -1   nt-1      -1          -1         -1  \n",
       "\n",
       "[2 rows x 21 columns]"
      ]
     },
     "execution_count": 14,
     "metadata": {},
     "output_type": "execute_result"
    }
   ],
   "source": [
    "g_nt1"
   ]
  },
  {
   "cell_type": "code",
   "execution_count": 15,
   "metadata": {},
   "outputs": [
    {
     "data": {
      "text/html": [
       "<div>\n",
       "<style scoped>\n",
       "    .dataframe tbody tr th:only-of-type {\n",
       "        vertical-align: middle;\n",
       "    }\n",
       "\n",
       "    .dataframe tbody tr th {\n",
       "        vertical-align: top;\n",
       "    }\n",
       "\n",
       "    .dataframe thead th {\n",
       "        text-align: right;\n",
       "    }\n",
       "</style>\n",
       "<table border=\"1\" class=\"dataframe\">\n",
       "  <thead>\n",
       "    <tr style=\"text-align: right;\">\n",
       "      <th></th>\n",
       "      <th>id</th>\n",
       "      <th>class</th>\n",
       "      <th>column_min</th>\n",
       "      <th>column_max</th>\n",
       "      <th>row_min</th>\n",
       "      <th>row_max</th>\n",
       "      <th>height</th>\n",
       "      <th>width</th>\n",
       "      <th>area</th>\n",
       "      <th>center</th>\n",
       "      <th>...</th>\n",
       "      <th>center_row</th>\n",
       "      <th>text_content</th>\n",
       "      <th>children</th>\n",
       "      <th>parent</th>\n",
       "      <th>alignment_in_group</th>\n",
       "      <th>gap</th>\n",
       "      <th>group</th>\n",
       "      <th>pair_to</th>\n",
       "      <th>group_pair</th>\n",
       "      <th>list_item</th>\n",
       "    </tr>\n",
       "  </thead>\n",
       "  <tbody>\n",
       "    <tr>\n",
       "      <th>14</th>\n",
       "      <td>14</td>\n",
       "      <td>Text</td>\n",
       "      <td>76</td>\n",
       "      <td>183</td>\n",
       "      <td>172</td>\n",
       "      <td>187</td>\n",
       "      <td>15</td>\n",
       "      <td>107</td>\n",
       "      <td>1605</td>\n",
       "      <td>(129.5, 179.5)</td>\n",
       "      <td>...</td>\n",
       "      <td>179.5</td>\n",
       "      <td>Bluetooth Share</td>\n",
       "      <td>-1</td>\n",
       "      <td>-1</td>\n",
       "      <td>v</td>\n",
       "      <td>110</td>\n",
       "      <td>t-6</td>\n",
       "      <td>15</td>\n",
       "      <td>1</td>\n",
       "      <td>0</td>\n",
       "    </tr>\n",
       "    <tr>\n",
       "      <th>18</th>\n",
       "      <td>18</td>\n",
       "      <td>Text</td>\n",
       "      <td>91</td>\n",
       "      <td>167</td>\n",
       "      <td>297</td>\n",
       "      <td>312</td>\n",
       "      <td>15</td>\n",
       "      <td>76</td>\n",
       "      <td>1140</td>\n",
       "      <td>(129.0, 304.5)</td>\n",
       "      <td>...</td>\n",
       "      <td>304.5</td>\n",
       "      <td>Nfc Service</td>\n",
       "      <td>-1</td>\n",
       "      <td>-1</td>\n",
       "      <td>v</td>\n",
       "      <td>110</td>\n",
       "      <td>t-6</td>\n",
       "      <td>19</td>\n",
       "      <td>1</td>\n",
       "      <td>1</td>\n",
       "    </tr>\n",
       "    <tr>\n",
       "      <th>21</th>\n",
       "      <td>21</td>\n",
       "      <td>Text</td>\n",
       "      <td>97</td>\n",
       "      <td>162</td>\n",
       "      <td>422</td>\n",
       "      <td>437</td>\n",
       "      <td>15</td>\n",
       "      <td>65</td>\n",
       "      <td>975</td>\n",
       "      <td>(129.5, 429.5)</td>\n",
       "      <td>...</td>\n",
       "      <td>429.5</td>\n",
       "      <td>Facebook</td>\n",
       "      <td>-1</td>\n",
       "      <td>-1</td>\n",
       "      <td>v</td>\n",
       "      <td>110</td>\n",
       "      <td>t-6</td>\n",
       "      <td>22</td>\n",
       "      <td>1</td>\n",
       "      <td>2</td>\n",
       "    </tr>\n",
       "    <tr>\n",
       "      <th>25</th>\n",
       "      <td>25</td>\n",
       "      <td>Text</td>\n",
       "      <td>94</td>\n",
       "      <td>163</td>\n",
       "      <td>547</td>\n",
       "      <td>562</td>\n",
       "      <td>15</td>\n",
       "      <td>69</td>\n",
       "      <td>1035</td>\n",
       "      <td>(128.5, 554.5)</td>\n",
       "      <td>...</td>\n",
       "      <td>554.5</td>\n",
       "      <td>Work Chat</td>\n",
       "      <td>-1</td>\n",
       "      <td>-1</td>\n",
       "      <td>v</td>\n",
       "      <td>-1</td>\n",
       "      <td>t-6</td>\n",
       "      <td>26</td>\n",
       "      <td>1</td>\n",
       "      <td>3</td>\n",
       "    </tr>\n",
       "  </tbody>\n",
       "</table>\n",
       "<p>4 rows × 21 columns</p>\n",
       "</div>"
      ],
      "text/plain": [
       "    id class  column_min  column_max  row_min  row_max  height  width  area  \\\n",
       "14  14  Text          76         183      172      187      15    107  1605   \n",
       "18  18  Text          91         167      297      312      15     76  1140   \n",
       "21  21  Text          97         162      422      437      15     65   975   \n",
       "25  25  Text          94         163      547      562      15     69  1035   \n",
       "\n",
       "            center    ...      center_row     text_content children parent  \\\n",
       "14  (129.5, 179.5)    ...           179.5  Bluetooth Share       -1     -1   \n",
       "18  (129.0, 304.5)    ...           304.5      Nfc Service       -1     -1   \n",
       "21  (129.5, 429.5)    ...           429.5         Facebook       -1     -1   \n",
       "25  (128.5, 554.5)    ...           554.5        Work Chat       -1     -1   \n",
       "\n",
       "    alignment_in_group  gap  group pair_to  group_pair  list_item  \n",
       "14                   v  110    t-6      15           1          0  \n",
       "18                   v  110    t-6      19           1          1  \n",
       "21                   v  110    t-6      22           1          2  \n",
       "25                   v   -1    t-6      26           1          3  \n",
       "\n",
       "[4 rows x 21 columns]"
      ]
     },
     "execution_count": 15,
     "metadata": {},
     "output_type": "execute_result"
    }
   ],
   "source": [
    "g_t6"
   ]
  },
  {
   "cell_type": "code",
   "execution_count": null,
   "metadata": {},
   "outputs": [],
   "source": []
  },
  {
   "cell_type": "code",
   "execution_count": 8,
   "metadata": {
    "scrolled": false
   },
   "outputs": [],
   "source": [
    "# gui.layout_recognition(check_valid_group=False)\n",
    "# gui.visualize_layout_recognition()"
   ]
  }
 ],
 "metadata": {
  "kernelspec": {
   "display_name": "Python 3",
   "language": "python",
   "name": "python3"
  },
  "language_info": {
   "codemirror_mode": {
    "name": "ipython",
    "version": 3
   },
   "file_extension": ".py",
   "mimetype": "text/x-python",
   "name": "python",
   "nbconvert_exporter": "python",
   "pygments_lexer": "ipython3",
   "version": "3.5.6"
  }
 },
 "nbformat": 4,
 "nbformat_minor": 2
}
