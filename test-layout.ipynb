{
 "cells": [
  {
   "cell_type": "code",
   "execution_count": 7,
   "metadata": {},
   "outputs": [],
   "source": [
    "from GUI import GUI\n",
    "from layout.obj.Compo import Compo\n",
    "import layout.lib.pairing as pairing\n",
    "import layout.lib.repetition_recognition as rep\n",
    "import layout.lib.draw as draw\n",
    "from sklearn.cluster import DBSCAN\n",
    "\n",
    "import pandas as pd\n",
    "import math\n",
    "import numpy as np\n",
    "import os\n",
    "from os.path import join as pjoin"
   ]
  },
  {
   "cell_type": "code",
   "execution_count": 10,
   "metadata": {},
   "outputs": [],
   "source": [
    "gui = GUI(img_file='data/input/10.jpg')"
   ]
  },
  {
   "cell_type": "code",
   "execution_count": 3,
   "metadata": {},
   "outputs": [],
   "source": [
    "gui = GUI(img_file='E:\\\\Mulong\\\\Datasets\\\\gui\\\\rico\\\\combined\\\\all\\\\22833.jpg', output_dir='E:\\\\Temp\\\\data\\\\rico-layout\\\\result')"
   ]
  },
  {
   "cell_type": "code",
   "execution_count": 12,
   "metadata": {},
   "outputs": [
    {
     "name": "stdout",
     "output_type": "stream",
     "text": [
      "[Compo Detection Completed in 0.717 s] Input: data/input/10.jpg Output: data/output\\ip\\10.json\n",
      "[Merge Completed] Input: data/input/10.jpg Output: data/output\\uied\\10.jpg\n"
     ]
    }
   ],
   "source": [
    "gui.element_detection(is_ocr=False)\n",
    "gui.visualize_element_detection()"
   ]
  },
  {
   "cell_type": "code",
   "execution_count": 4,
   "metadata": {
    "scrolled": true
   },
   "outputs": [
    {
     "name": "stdout",
     "output_type": "stream",
     "text": [
      "[Layout Recognition Completed in 1.166 s] Input: data/input/10.jpg Output: data/output\\layout\\10.json\n",
      "Thu Aug  5 23:03:44 2021 \n",
      "\n",
      "\n"
     ]
    }
   ],
   "source": [
    "gui.layout_recognition()\n",
    "gui.visualize_layout_recognition()"
   ]
  },
  {
   "cell_type": "code",
   "execution_count": 4,
   "metadata": {},
   "outputs": [],
   "source": [
    "gui.detect_result_img_text"
   ]
  },
  {
   "cell_type": "code",
   "execution_count": 8,
   "metadata": {},
   "outputs": [
    {
     "data": {
      "text/plain": [
       "True"
      ]
     },
     "execution_count": 8,
     "metadata": {},
     "output_type": "execute_result"
    }
   ],
   "source": [
    "os.path.isfile(pjoin(gui.non_text_dir, gui.file_name + '.jpg'))"
   ]
  },
  {
   "cell_type": "code",
   "execution_count": 9,
   "metadata": {},
   "outputs": [
    {
     "data": {
      "text/plain": [
       "'data/output\\\\ip\\\\10.jpg'"
      ]
     },
     "execution_count": 9,
     "metadata": {},
     "output_type": "execute_result"
    }
   ],
   "source": [
    "pjoin(gui.non_text_dir, gui.file_name + '.jpg')"
   ]
  },
  {
   "cell_type": "code",
   "execution_count": null,
   "metadata": {},
   "outputs": [],
   "source": []
  },
  {
   "cell_type": "code",
   "execution_count": null,
   "metadata": {},
   "outputs": [],
   "source": []
  },
  {
   "cell_type": "code",
   "execution_count": null,
   "metadata": {},
   "outputs": [],
   "source": []
  },
  {
   "cell_type": "code",
   "execution_count": 5,
   "metadata": {},
   "outputs": [],
   "source": [
    "gui.cvt_compos_json_to_dataframe()"
   ]
  },
  {
   "cell_type": "code",
   "execution_count": 21,
   "metadata": {},
   "outputs": [],
   "source": [
    "gui.compos_df.repetitive_group_recognition(show=True)"
   ]
  },
  {
   "cell_type": "code",
   "execution_count": 5,
   "metadata": {},
   "outputs": [],
   "source": [
    "gui.compos_df.pair_groups()"
   ]
  },
  {
   "cell_type": "code",
   "execution_count": 7,
   "metadata": {},
   "outputs": [],
   "source": [
    "gui.compos_df.repetitive_block_recognition()"
   ]
  },
  {
   "cell_type": "code",
   "execution_count": 12,
   "metadata": {},
   "outputs": [],
   "source": [
    "b = gui.visualize_compos_df('group')"
   ]
  },
  {
   "cell_type": "code",
   "execution_count": 8,
   "metadata": {},
   "outputs": [],
   "source": [
    "# gui.compos_df.pair_groups()"
   ]
  },
  {
   "cell_type": "code",
   "execution_count": 12,
   "metadata": {},
   "outputs": [],
   "source": [
    "# gui.visualize_compos_df('group_pair')"
   ]
  },
  {
   "cell_type": "code",
   "execution_count": null,
   "metadata": {},
   "outputs": [],
   "source": []
  },
  {
   "cell_type": "code",
   "execution_count": null,
   "metadata": {},
   "outputs": [],
   "source": []
  },
  {
   "cell_type": "code",
   "execution_count": null,
   "metadata": {},
   "outputs": [],
   "source": []
  },
  {
   "cell_type": "code",
   "execution_count": 5,
   "metadata": {},
   "outputs": [],
   "source": [
    "gui.cvt_compos_json_to_dataframe()\n",
    "gui.compos_df.repetitive_group_recognition()"
   ]
  },
  {
   "cell_type": "code",
   "execution_count": 7,
   "metadata": {},
   "outputs": [],
   "source": [
    "gui.compos_df.calc_gap_in_group()"
   ]
  },
  {
   "cell_type": "code",
   "execution_count": 8,
   "metadata": {},
   "outputs": [],
   "source": [
    "df = gui.compos_df.compos_dataframe"
   ]
  },
  {
   "cell_type": "code",
   "execution_count": 13,
   "metadata": {},
   "outputs": [
    {
     "data": {
      "text/html": [
       "<div>\n",
       "<style scoped>\n",
       "    .dataframe tbody tr th:only-of-type {\n",
       "        vertical-align: middle;\n",
       "    }\n",
       "\n",
       "    .dataframe tbody tr th {\n",
       "        vertical-align: top;\n",
       "    }\n",
       "\n",
       "    .dataframe thead th {\n",
       "        text-align: right;\n",
       "    }\n",
       "</style>\n",
       "<table border=\"1\" class=\"dataframe\">\n",
       "  <thead>\n",
       "    <tr style=\"text-align: right;\">\n",
       "      <th></th>\n",
       "      <th>id</th>\n",
       "      <th>class</th>\n",
       "      <th>column_min</th>\n",
       "      <th>column_max</th>\n",
       "      <th>row_min</th>\n",
       "      <th>row_max</th>\n",
       "      <th>height</th>\n",
       "      <th>width</th>\n",
       "      <th>area</th>\n",
       "      <th>center</th>\n",
       "      <th>center_column</th>\n",
       "      <th>center_row</th>\n",
       "      <th>text_content</th>\n",
       "      <th>children</th>\n",
       "      <th>parent</th>\n",
       "      <th>alignment_in_group</th>\n",
       "      <th>gap</th>\n",
       "      <th>group</th>\n",
       "    </tr>\n",
       "  </thead>\n",
       "  <tbody>\n",
       "    <tr>\n",
       "      <th>15</th>\n",
       "      <td>15</td>\n",
       "      <td>Compo</td>\n",
       "      <td>147</td>\n",
       "      <td>156</td>\n",
       "      <td>592</td>\n",
       "      <td>685</td>\n",
       "      <td>93</td>\n",
       "      <td>9</td>\n",
       "      <td>837</td>\n",
       "      <td>(151.5, 638.5)</td>\n",
       "      <td>151.5</td>\n",
       "      <td>638.5</td>\n",
       "      <td>-1</td>\n",
       "      <td>-1</td>\n",
       "      <td>-1</td>\n",
       "      <td>h</td>\n",
       "      <td>133</td>\n",
       "      <td>nt-1</td>\n",
       "    </tr>\n",
       "    <tr>\n",
       "      <th>16</th>\n",
       "      <td>16</td>\n",
       "      <td>Compo</td>\n",
       "      <td>289</td>\n",
       "      <td>296</td>\n",
       "      <td>593</td>\n",
       "      <td>685</td>\n",
       "      <td>92</td>\n",
       "      <td>7</td>\n",
       "      <td>644</td>\n",
       "      <td>(292.5, 639.0)</td>\n",
       "      <td>292.5</td>\n",
       "      <td>639.0</td>\n",
       "      <td>-1</td>\n",
       "      <td>-1</td>\n",
       "      <td>-1</td>\n",
       "      <td>h</td>\n",
       "      <td>-1</td>\n",
       "      <td>nt-1</td>\n",
       "    </tr>\n",
       "  </tbody>\n",
       "</table>\n",
       "</div>"
      ],
      "text/plain": [
       "    id  class  column_min  column_max  row_min  row_max  height  width  area  \\\n",
       "15  15  Compo         147         156      592      685      93      9   837   \n",
       "16  16  Compo         289         296      593      685      92      7   644   \n",
       "\n",
       "            center  center_column  center_row text_content children  parent  \\\n",
       "15  (151.5, 638.5)          151.5       638.5           -1       -1      -1   \n",
       "16  (292.5, 639.0)          292.5       639.0           -1       -1      -1   \n",
       "\n",
       "   alignment_in_group  gap group  \n",
       "15                  h  133  nt-1  \n",
       "16                  h   -1  nt-1  "
      ]
     },
     "execution_count": 13,
     "metadata": {},
     "output_type": "execute_result"
    }
   ],
   "source": [
    "df[df['group'] == 'nt-1']"
   ]
  },
  {
   "cell_type": "code",
   "execution_count": null,
   "metadata": {},
   "outputs": [],
   "source": []
  },
  {
   "cell_type": "code",
   "execution_count": null,
   "metadata": {},
   "outputs": [],
   "source": []
  },
  {
   "cell_type": "code",
   "execution_count": null,
   "metadata": {},
   "outputs": [],
   "source": []
  },
  {
   "cell_type": "code",
   "execution_count": 4,
   "metadata": {},
   "outputs": [],
   "source": [
    "gui.compos_df.pair_groups()"
   ]
  },
  {
   "cell_type": "code",
   "execution_count": 6,
   "metadata": {},
   "outputs": [],
   "source": [
    "compos = gui.compos_df\n",
    "df = compos.compos_dataframe\n",
    "all_groups = compos.split_groups('group')"
   ]
  },
  {
   "cell_type": "code",
   "execution_count": 8,
   "metadata": {},
   "outputs": [],
   "source": [
    "g_nt0 = df[df['group'] == 'nt-0']\n",
    "g_t10 = df[df['group'] == 't-10']"
   ]
  },
  {
   "cell_type": "code",
   "execution_count": 9,
   "metadata": {},
   "outputs": [
    {
     "name": "stdout",
     "output_type": "stream",
     "text": [
      "nt-0 t-10\n",
      "[289.3579098625092, 333.28966380612525, 309.45758998609165, 308.4234102658227, 339.7484363466593, 339.418620585259, 315.4314505562183, None, None]\n"
     ]
    },
    {
     "ename": "TypeError",
     "evalue": "unorderable types: NoneType() > float()",
     "output_type": "error",
     "traceback": [
      "\u001b[1;31m---------------------------------------------------------------------------\u001b[0m",
      "\u001b[1;31mTypeError\u001b[0m                                 Traceback (most recent call last)",
      "\u001b[1;32m<ipython-input-9-be5ae06ccfc8>\u001b[0m in \u001b[0;36m<module>\u001b[1;34m()\u001b[0m\n\u001b[1;32m----> 1\u001b[1;33m \u001b[0mpairing\u001b[0m\u001b[1;33m.\u001b[0m\u001b[0mmatch_two_groups_by_distance\u001b[0m\u001b[1;33m(\u001b[0m\u001b[0mg_nt0\u001b[0m\u001b[1;33m,\u001b[0m \u001b[0mg_t10\u001b[0m\u001b[1;33m)\u001b[0m\u001b[1;33m\u001b[0m\u001b[0m\n\u001b[0m",
      "\u001b[1;32mD:\\git_file\\github\\doing\\GUI-Layout-Reocognition\\layout\\lib\\pairing.py\u001b[0m in \u001b[0;36mmatch_two_groups_by_distance\u001b[1;34m(g1, g2, diff_distance, diff_angle)\u001b[0m\n\u001b[0;32m    149\u001b[0m                 \u001b[0mangle_j\u001b[0m \u001b[1;33m=\u001b[0m \u001b[0mangles\u001b[0m\u001b[1;33m[\u001b[0m\u001b[0mj\u001b[0m\u001b[1;33m]\u001b[0m\u001b[1;33m\u001b[0m\u001b[0m\n\u001b[0;32m    150\u001b[0m                 \u001b[1;31m# compare the pair's distance and angle between the line and the x-axis\u001b[0m\u001b[1;33m\u001b[0m\u001b[1;33m\u001b[0m\u001b[0m\n\u001b[1;32m--> 151\u001b[1;33m                 \u001b[1;32mif\u001b[0m \u001b[0mmax\u001b[0m\u001b[1;33m(\u001b[0m\u001b[0mdis_i\u001b[0m\u001b[1;33m,\u001b[0m \u001b[0mdis_j\u001b[0m\u001b[1;33m)\u001b[0m \u001b[1;33m<\u001b[0m \u001b[0mmax_side\u001b[0m \u001b[1;33m*\u001b[0m \u001b[1;36m2\u001b[0m \u001b[1;32mand\u001b[0m\u001b[0;31m\\\u001b[0m\u001b[1;33m\u001b[0m\u001b[0m\n\u001b[0m\u001b[0;32m    152\u001b[0m                         \u001b[1;33m(\u001b[0m\u001b[0mabs\u001b[0m\u001b[1;33m(\u001b[0m\u001b[0mdis_i\u001b[0m \u001b[1;33m-\u001b[0m \u001b[0mdis_j\u001b[0m\u001b[1;33m)\u001b[0m \u001b[1;33m<=\u001b[0m \u001b[1;36m10\u001b[0m \u001b[1;32mor\u001b[0m \u001b[0mmax\u001b[0m\u001b[1;33m(\u001b[0m\u001b[0mdis_i\u001b[0m\u001b[1;33m,\u001b[0m \u001b[0mdis_j\u001b[0m\u001b[1;33m)\u001b[0m \u001b[1;33m<\u001b[0m \u001b[0mdiff_distance\u001b[0m \u001b[1;33m*\u001b[0m \u001b[0mmin\u001b[0m\u001b[1;33m(\u001b[0m\u001b[0mdis_i\u001b[0m\u001b[1;33m,\u001b[0m \u001b[0mdis_j\u001b[0m\u001b[1;33m)\u001b[0m\u001b[1;33m)\u001b[0m \u001b[1;32mand\u001b[0m\u001b[0;31m\\\u001b[0m\u001b[1;33m\u001b[0m\u001b[0m\n\u001b[0;32m    153\u001b[0m                         \u001b[0mabs\u001b[0m\u001b[1;33m(\u001b[0m\u001b[0mangle_i\u001b[0m \u001b[1;33m-\u001b[0m \u001b[0mangle_j\u001b[0m\u001b[1;33m)\u001b[0m \u001b[1;33m<\u001b[0m \u001b[0mdiff_angle\u001b[0m\u001b[1;33m:\u001b[0m\u001b[1;33m\u001b[0m\u001b[0m\n",
      "\u001b[1;31mTypeError\u001b[0m: unorderable types: NoneType() > float()"
     ]
    }
   ],
   "source": [
    "pairing.match_two_groups_by_distance(g_nt0, g_t10)"
   ]
  },
  {
   "cell_type": "code",
   "execution_count": null,
   "metadata": {},
   "outputs": [],
   "source": []
  },
  {
   "cell_type": "code",
   "execution_count": null,
   "metadata": {},
   "outputs": [],
   "source": []
  },
  {
   "cell_type": "code",
   "execution_count": 8,
   "metadata": {
    "scrolled": false
   },
   "outputs": [],
   "source": [
    "# gui.layout_recognition(check_valid_group=False)\n",
    "# gui.visualize_layout_recognition()"
   ]
  }
 ],
 "metadata": {
  "kernelspec": {
   "display_name": "Python 3",
   "language": "python",
   "name": "python3"
  },
  "language_info": {
   "codemirror_mode": {
    "name": "ipython",
    "version": 3
   },
   "file_extension": ".py",
   "mimetype": "text/x-python",
   "name": "python",
   "nbconvert_exporter": "python",
   "pygments_lexer": "ipython3",
   "version": "3.5.6"
  }
 },
 "nbformat": 4,
 "nbformat_minor": 2
}
