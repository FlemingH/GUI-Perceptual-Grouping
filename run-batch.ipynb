{
 "cells": [
  {
   "cell_type": "code",
   "execution_count": 1,
   "metadata": {},
   "outputs": [],
   "source": [
    "from GUI import GUI\n",
    "from layout.obj.Compo import Compo\n",
    "import layout.lib.pairing as pairing\n",
    "import layout.lib.repetition_recognition as rep\n",
    "import layout.lib.draw as draw\n",
    "from sklearn.cluster import DBSCAN\n",
    "\n",
    "import pandas as pd\n",
    "import math\n",
    "import numpy as np\n",
    "import json\n",
    "from os.path import join as pjoin\n",
    "import cv2"
   ]
  },
  {
   "cell_type": "code",
   "execution_count": 2,
   "metadata": {},
   "outputs": [],
   "source": [
    "root = 'E:\\\\Temp\\\\data\\\\rico-layout'"
   ]
  },
  {
   "cell_type": "code",
   "execution_count": 3,
   "metadata": {},
   "outputs": [],
   "source": [
    "js = json.load(open(pjoin(root, 'valid_group_data.json')))"
   ]
  },
  {
   "cell_type": "code",
   "execution_count": 4,
   "metadata": {},
   "outputs": [],
   "source": [
    "input_imgs = list(js.keys())[:10]\n",
    "input_imgs = [pjoin('E:\\\\Mulong\\\\Datasets\\\\gui\\\\rico\\\\combined\\\\all', f + '.jpg') for f in input_imgs]"
   ]
  },
  {
   "cell_type": "code",
   "execution_count": 5,
   "metadata": {},
   "outputs": [
    {
     "name": "stdout",
     "output_type": "stream",
     "text": [
      "[Text Detection Completed in 2.264 s] Input: E:\\Mulong\\Datasets\\gui\\rico\\combined\\all\\21745.jpg Output: E:\\Temp\\data\\rico-layout\\result\\ocr\\21745.json\n",
      "[Compo Detection Completed in 0.585 s] Input: E:\\Mulong\\Datasets\\gui\\rico\\combined\\all\\21745.jpg Output: E:\\Temp\\data\\rico-layout\\result\\ip\\21745.json\n",
      "[Merge Completed] Input: E:\\Mulong\\Datasets\\gui\\rico\\combined\\all\\21745.jpg Output: E:\\Temp\\data\\rico-layout\\result\\uied\\21745.jpg\n",
      "[Layout Recognition Completed in 0.708 s] Input: E:\\Mulong\\Datasets\\gui\\rico\\combined\\all\\21745.jpg Output: E:\\Temp\\data\\rico-layout\\result\\layout\\21745.json\n",
      "Thu Aug  5 10:07:37 2021 \n",
      "\n",
      "\n",
      "[Text Detection Completed in 0.950 s] Input: E:\\Mulong\\Datasets\\gui\\rico\\combined\\all\\71416.jpg Output: E:\\Temp\\data\\rico-layout\\result\\ocr\\71416.json\n",
      "[Compo Detection Completed in 0.733 s] Input: E:\\Mulong\\Datasets\\gui\\rico\\combined\\all\\71416.jpg Output: E:\\Temp\\data\\rico-layout\\result\\ip\\71416.json\n",
      "[Merge Completed] Input: E:\\Mulong\\Datasets\\gui\\rico\\combined\\all\\71416.jpg Output: E:\\Temp\\data\\rico-layout\\result\\uied\\71416.jpg\n",
      "[Layout Recognition Completed in 1.021 s] Input: E:\\Mulong\\Datasets\\gui\\rico\\combined\\all\\71416.jpg Output: E:\\Temp\\data\\rico-layout\\result\\layout\\71416.json\n",
      "Thu Aug  5 10:07:39 2021 \n",
      "\n",
      "\n",
      "[Text Detection Completed in 1.228 s] Input: E:\\Mulong\\Datasets\\gui\\rico\\combined\\all\\49428.jpg Output: E:\\Temp\\data\\rico-layout\\result\\ocr\\49428.json\n",
      "[Compo Detection Completed in 0.912 s] Input: E:\\Mulong\\Datasets\\gui\\rico\\combined\\all\\49428.jpg Output: E:\\Temp\\data\\rico-layout\\result\\ip\\49428.json\n",
      "[Merge Completed] Input: E:\\Mulong\\Datasets\\gui\\rico\\combined\\all\\49428.jpg Output: E:\\Temp\\data\\rico-layout\\result\\uied\\49428.jpg\n",
      "[Layout Recognition Completed in 0.775 s] Input: E:\\Mulong\\Datasets\\gui\\rico\\combined\\all\\49428.jpg Output: E:\\Temp\\data\\rico-layout\\result\\layout\\49428.json\n",
      "Thu Aug  5 10:07:42 2021 \n",
      "\n",
      "\n",
      "[Text Detection Completed in 1.133 s] Input: E:\\Mulong\\Datasets\\gui\\rico\\combined\\all\\16595.jpg Output: E:\\Temp\\data\\rico-layout\\result\\ocr\\16595.json\n",
      "[Compo Detection Completed in 0.846 s] Input: E:\\Mulong\\Datasets\\gui\\rico\\combined\\all\\16595.jpg Output: E:\\Temp\\data\\rico-layout\\result\\ip\\16595.json\n",
      "[Merge Completed] Input: E:\\Mulong\\Datasets\\gui\\rico\\combined\\all\\16595.jpg Output: E:\\Temp\\data\\rico-layout\\result\\uied\\16595.jpg\n",
      "[Layout Recognition Completed in 0.433 s] Input: E:\\Mulong\\Datasets\\gui\\rico\\combined\\all\\16595.jpg Output: E:\\Temp\\data\\rico-layout\\result\\layout\\16595.json\n",
      "Thu Aug  5 10:07:45 2021 \n",
      "\n",
      "\n",
      "[Text Detection Completed in 0.855 s] Input: E:\\Mulong\\Datasets\\gui\\rico\\combined\\all\\18019.jpg Output: E:\\Temp\\data\\rico-layout\\result\\ocr\\18019.json\n",
      "[Compo Detection Completed in 0.787 s] Input: E:\\Mulong\\Datasets\\gui\\rico\\combined\\all\\18019.jpg Output: E:\\Temp\\data\\rico-layout\\result\\ip\\18019.json\n",
      "[Merge Completed] Input: E:\\Mulong\\Datasets\\gui\\rico\\combined\\all\\18019.jpg Output: E:\\Temp\\data\\rico-layout\\result\\uied\\18019.jpg\n",
      "[Layout Recognition Completed in 0.440 s] Input: E:\\Mulong\\Datasets\\gui\\rico\\combined\\all\\18019.jpg Output: E:\\Temp\\data\\rico-layout\\result\\layout\\18019.json\n",
      "Thu Aug  5 10:07:47 2021 \n",
      "\n",
      "\n",
      "[Text Detection Completed in 1.170 s] Input: E:\\Mulong\\Datasets\\gui\\rico\\combined\\all\\51199.jpg Output: E:\\Temp\\data\\rico-layout\\result\\ocr\\51199.json\n",
      "[Compo Detection Completed in 0.695 s] Input: E:\\Mulong\\Datasets\\gui\\rico\\combined\\all\\51199.jpg Output: E:\\Temp\\data\\rico-layout\\result\\ip\\51199.json\n",
      "[Merge Completed] Input: E:\\Mulong\\Datasets\\gui\\rico\\combined\\all\\51199.jpg Output: E:\\Temp\\data\\rico-layout\\result\\uied\\51199.jpg\n",
      "[Layout Recognition Completed in 0.492 s] Input: E:\\Mulong\\Datasets\\gui\\rico\\combined\\all\\51199.jpg Output: E:\\Temp\\data\\rico-layout\\result\\layout\\51199.json\n",
      "Thu Aug  5 10:07:50 2021 \n",
      "\n",
      "\n",
      "[Text Detection Completed in 1.000 s] Input: E:\\Mulong\\Datasets\\gui\\rico\\combined\\all\\29977.jpg Output: E:\\Temp\\data\\rico-layout\\result\\ocr\\29977.json\n",
      "[Compo Detection Completed in 0.760 s] Input: E:\\Mulong\\Datasets\\gui\\rico\\combined\\all\\29977.jpg Output: E:\\Temp\\data\\rico-layout\\result\\ip\\29977.json\n",
      "[Merge Completed] Input: E:\\Mulong\\Datasets\\gui\\rico\\combined\\all\\29977.jpg Output: E:\\Temp\\data\\rico-layout\\result\\uied\\29977.jpg\n",
      "[Layout Recognition Completed in 0.531 s] Input: E:\\Mulong\\Datasets\\gui\\rico\\combined\\all\\29977.jpg Output: E:\\Temp\\data\\rico-layout\\result\\layout\\29977.json\n",
      "Thu Aug  5 10:07:53 2021 \n",
      "\n",
      "\n",
      "[Text Detection Completed in 2.124 s] Input: E:\\Mulong\\Datasets\\gui\\rico\\combined\\all\\43444.jpg Output: E:\\Temp\\data\\rico-layout\\result\\ocr\\43444.json\n",
      "[Compo Detection Completed in 0.946 s] Input: E:\\Mulong\\Datasets\\gui\\rico\\combined\\all\\43444.jpg Output: E:\\Temp\\data\\rico-layout\\result\\ip\\43444.json\n",
      "[Merge Completed] Input: E:\\Mulong\\Datasets\\gui\\rico\\combined\\all\\43444.jpg Output: E:\\Temp\\data\\rico-layout\\result\\uied\\43444.jpg\n",
      "[Layout Recognition Completed in 0.699 s] Input: E:\\Mulong\\Datasets\\gui\\rico\\combined\\all\\43444.jpg Output: E:\\Temp\\data\\rico-layout\\result\\layout\\43444.json\n",
      "Thu Aug  5 10:07:56 2021 \n",
      "\n",
      "\n",
      "[Text Detection Completed in 1.089 s] Input: E:\\Mulong\\Datasets\\gui\\rico\\combined\\all\\21493.jpg Output: E:\\Temp\\data\\rico-layout\\result\\ocr\\21493.json\n",
      "[Compo Detection Completed in 1.000 s] Input: E:\\Mulong\\Datasets\\gui\\rico\\combined\\all\\21493.jpg Output: E:\\Temp\\data\\rico-layout\\result\\ip\\21493.json\n",
      "[Merge Completed] Input: E:\\Mulong\\Datasets\\gui\\rico\\combined\\all\\21493.jpg Output: E:\\Temp\\data\\rico-layout\\result\\uied\\21493.jpg\n",
      "[Layout Recognition Completed in 0.479 s] Input: E:\\Mulong\\Datasets\\gui\\rico\\combined\\all\\21493.jpg Output: E:\\Temp\\data\\rico-layout\\result\\layout\\21493.json\n",
      "Thu Aug  5 10:07:59 2021 \n",
      "\n",
      "\n",
      "[Text Detection Completed in 0.916 s] Input: E:\\Mulong\\Datasets\\gui\\rico\\combined\\all\\63878.jpg Output: E:\\Temp\\data\\rico-layout\\result\\ocr\\63878.json\n",
      "[Compo Detection Completed in 0.713 s] Input: E:\\Mulong\\Datasets\\gui\\rico\\combined\\all\\63878.jpg Output: E:\\Temp\\data\\rico-layout\\result\\ip\\63878.json\n",
      "[Merge Completed] Input: E:\\Mulong\\Datasets\\gui\\rico\\combined\\all\\63878.jpg Output: E:\\Temp\\data\\rico-layout\\result\\uied\\63878.jpg\n",
      "[Layout Recognition Completed in 0.637 s] Input: E:\\Mulong\\Datasets\\gui\\rico\\combined\\all\\63878.jpg Output: E:\\Temp\\data\\rico-layout\\result\\layout\\63878.json\n",
      "Thu Aug  5 10:08:02 2021 \n",
      "\n",
      "\n"
     ]
    }
   ],
   "source": [
    "for input_img in input_imgs:\n",
    "    gui = GUI(img_file=input_img, output_dir=pjoin(root, 'result'))\n",
    "    gui.element_detection()\n",
    "    gui.layout_recognition()"
   ]
  },
  {
   "cell_type": "code",
   "execution_count": null,
   "metadata": {},
   "outputs": [],
   "source": []
  }
 ],
 "metadata": {
  "kernelspec": {
   "display_name": "Python 3",
   "language": "python",
   "name": "python3"
  },
  "language_info": {
   "codemirror_mode": {
    "name": "ipython",
    "version": 3
   },
   "file_extension": ".py",
   "mimetype": "text/x-python",
   "name": "python",
   "nbconvert_exporter": "python",
   "pygments_lexer": "ipython3",
   "version": "3.5.6"
  }
 },
 "nbformat": 4,
 "nbformat_minor": 2
}
